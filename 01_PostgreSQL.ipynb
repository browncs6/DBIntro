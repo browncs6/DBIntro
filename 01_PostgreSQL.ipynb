{
 "cells": [
  {
   "cell_type": "markdown",
   "metadata": {},
   "source": [
    "# 01 PostgreSQL tutorial\n",
    "\n",
    "To install PostgreSQL you can either use a package manager, e.g.\n",
    "\n",
    "`brew install postgresql`\n",
    "\n",
    "or (use in Ubuntu)\n",
    "\n",
    "`apt-get install postgresql-11`\n",
    "\n",
    "More options are available under https://www.postgresql.org/download/ (binary packages).\n",
    "\n",
    "Another option is to download Postgres and (manually) install/use it. If you want to work on the department machines, this is what you'll need to do. I.e. \n",
    "\n",
    "``\n",
    "\n",
    "\n",
    "The first step is to create a new database (here called cs6) using the createdb command in the bash shell:\n",
    "\n",
    "`createdb cs6`\n",
    "\n",
    "\n",
    "Note: you can use man with all PostgreSQL commands! E.g. `man createdb` or `man psql`"
   ]
  },
  {
   "cell_type": "markdown",
   "metadata": {},
   "source": [
    "## 01.01 PostgreSQL shell\n",
    "To connect to the `cs6` database and to start the (interactive) PostgreSQL shell, run `psql cs6`.\n",
    "\n",
    "Quit/exit the shell by typing `\\q`.\n",
    "\n",
    "Typing `help` shows a list of commands.\n",
    "\n",
    "In particular you can use \n",
    "- `\\?` to show all available psql-shell commands.\n",
    "- `\\h <SQL>` to get help on the syntax of a SQL statement, e.g. `\\h SELECT`\n",
    "\n",
    "\n",
    "To edit the last command, use `\\e`. This starts up `vim` or whatever editor you configured to work with your PostgreSQL instance.\n",
    "\n",
    "\n",
    "You can also directly run a SQL query or command using `psql -c '<cmd>' cs6`"
   ]
  },
  {
   "cell_type": "markdown",
   "metadata": {},
   "source": [
    "Resetting the notebook:"
   ]
  },
  {
   "cell_type": "code",
   "execution_count": 1,
   "metadata": {},
   "outputs": [],
   "source": [
    "!dropdb cs6 && createdb cs6"
   ]
  },
  {
   "cell_type": "markdown",
   "metadata": {},
   "source": [
    "## 01.02 Creating a table\n",
    "Let's create a table for pokemon! "
   ]
  },
  {
   "cell_type": "code",
   "execution_count": 2,
   "metadata": {},
   "outputs": [
    {
     "name": "stdout",
     "output_type": "stream",
     "text": [
      "CREATE TABLE\r\n"
     ]
    }
   ],
   "source": [
    "!psql -c 'CREATE TABLE pokemon(name VARCHAR(128) NOT NULL, \\\n",
    "height_ft DECIMAL NOT NULL, weight_lbs DECIMAL NOT NULL, \\\n",
    "category VARCHAR(128) NOT NULL, PRIMARY KEY (name));' cs6"
   ]
  },
  {
   "cell_type": "markdown",
   "metadata": {},
   "source": [
    "We can get an overview of all defined tables via `\\dt`"
   ]
  },
  {
   "cell_type": "code",
   "execution_count": 3,
   "metadata": {},
   "outputs": [
    {
     "name": "stdout",
     "output_type": "stream",
     "text": [
      "        List of relations\r\n",
      " Schema |  Name   | Type  | Owner \r\n",
      "--------+---------+-------+-------\r\n",
      " public | pokemon | table | leos\r\n",
      "(1 row)\r\n",
      "\r\n"
     ]
    }
   ],
   "source": [
    "!psql -c '\\dt' cs6"
   ]
  },
  {
   "cell_type": "markdown",
   "metadata": {},
   "source": [
    "To see what the table looks like, let's use `\\d`"
   ]
  },
  {
   "cell_type": "code",
   "execution_count": 4,
   "metadata": {},
   "outputs": [
    {
     "name": "stdout",
     "output_type": "stream",
     "text": [
      "                        Table \"public.pokemon\"\r\n",
      "   Column   |          Type          | Collation | Nullable | Default \r\n",
      "------------+------------------------+-----------+----------+---------\r\n",
      " name       | character varying(128) |           | not null | \r\n",
      " height_ft  | numeric                |           | not null | \r\n",
      " weight_lbs | numeric                |           | not null | \r\n",
      " category   | character varying(128) |           | not null | \r\n",
      "Indexes:\r\n",
      "    \"pokemon_pkey\" PRIMARY KEY, btree (name)\r\n",
      "\r\n"
     ]
    }
   ],
   "source": [
    "!psql -c '\\d pokemon' cs6"
   ]
  },
  {
   "cell_type": "markdown",
   "metadata": {},
   "source": [
    "## 01.03 Inserting data\n",
    "After creating an empty table, we want to populate it with values. Check <https://www.pokemon.com/us/pokedex> for data.\n",
    "\n",
    "Note that strings need to be quoted using `'....'`\n",
    "\n",
    "\n",
    "<table>\n",
    "    <tr>\n",
    "<td><img src=\"https://assets.pokemon.com/assets/cms2/img/pokedex/full/001.png\" width=\"100px\"></td>\n",
    "<td><img src=\"https://assets.pokemon.com/assets/cms2/img/pokedex/full/007.png\" width=\"100px\"></td>\n",
    "<td><img src=\"https://assets.pokemon.com/assets/cms2/img/pokedex/full/004.png\" width=\"100px\"></td>\n",
    "    </tr>\n",
    "</table>"
   ]
  },
  {
   "cell_type": "code",
   "execution_count": 5,
   "metadata": {},
   "outputs": [
    {
     "name": "stdout",
     "output_type": "stream",
     "text": [
      "INSERT 0 1\r\n"
     ]
    }
   ],
   "source": [
    "!psql -c \"INSERT INTO pokemon (name, category, height_ft, weight_lbs) VALUES ('Bulbasaur', 'Seed', 2.04, 15.2);\" cs6"
   ]
  },
  {
   "cell_type": "code",
   "execution_count": 6,
   "metadata": {},
   "outputs": [
    {
     "name": "stdout",
     "output_type": "stream",
     "text": [
      "INSERT 0 1\r\n"
     ]
    }
   ],
   "source": [
    "!psql -c \"INSERT INTO pokemon (name, category, height_ft, weight_lbs) VALUES ('Squirtle', 'Tiny Turtle', 1.08, 19.8);\" cs6"
   ]
  },
  {
   "cell_type": "code",
   "execution_count": 7,
   "metadata": {},
   "outputs": [
    {
     "name": "stdout",
     "output_type": "stream",
     "text": [
      "INSERT 0 1\r\n"
     ]
    }
   ],
   "source": [
    "!psql -c \"INSERT INTO pokemon (name, category, height_ft, weight_lbs) VALUES ('Charmander', 'Lizard', 2.00, 18.7);\" cs6"
   ]
  },
  {
   "cell_type": "markdown",
   "metadata": {},
   "source": [
    "## 01.04 Retrieving data\n",
    "To retrieve data the `SELECT` command is used. It can be used to retrieve only a subset of rows and columns (filtering). Use `*` to retrieve everything."
   ]
  },
  {
   "cell_type": "code",
   "execution_count": 8,
   "metadata": {},
   "outputs": [
    {
     "name": "stdout",
     "output_type": "stream",
     "text": [
      "    name    | height_ft | weight_lbs |  category   \r\n",
      "------------+-----------+------------+-------------\r\n",
      " Bulbasaur  |      2.04 |       15.2 | Seed\r\n",
      " Squirtle   |      1.08 |       19.8 | Tiny Turtle\r\n",
      " Charmander |      2.00 |       18.7 | Lizard\r\n",
      "(3 rows)\r\n",
      "\r\n"
     ]
    }
   ],
   "source": [
    "!psql -c \"SELECT * FROM pokemon;\" cs6"
   ]
  },
  {
   "cell_type": "code",
   "execution_count": 9,
   "metadata": {},
   "outputs": [
    {
     "name": "stdout",
     "output_type": "stream",
     "text": [
      "   name    \r\n",
      "-----------\r\n",
      " Bulbasaur\r\n",
      "(1 row)\r\n",
      "\r\n"
     ]
    }
   ],
   "source": [
    "!psql -c \"SELECT name FROM pokemon WHERE height_ft > 2;\" cs6"
   ]
  },
  {
   "cell_type": "code",
   "execution_count": 10,
   "metadata": {},
   "outputs": [
    {
     "name": "stdout",
     "output_type": "stream",
     "text": [
      " category |   name    \r\n",
      "----------+-----------\r\n",
      " Seed     | Bulbasaur\r\n",
      "(1 row)\r\n",
      "\r\n"
     ]
    }
   ],
   "source": [
    "!psql -c \"SELECT category, name FROM pokemon WHERE height_ft > 2;\" cs6"
   ]
  },
  {
   "cell_type": "markdown",
   "metadata": {},
   "source": [
    "There are many ways how the result of a `SELECT` statement can be manipulated. That's what makes `SQL` so powerful!"
   ]
  },
  {
   "cell_type": "code",
   "execution_count": 11,
   "metadata": {},
   "outputs": [
    {
     "name": "stdout",
     "output_type": "stream",
     "text": [
      "    name    | height_ft | weight_lbs |  category   \r\n",
      "------------+-----------+------------+-------------\r\n",
      " Bulbasaur  |      2.04 |       15.2 | Seed\r\n",
      " Charmander |      2.00 |       18.7 | Lizard\r\n",
      " Squirtle   |      1.08 |       19.8 | Tiny Turtle\r\n",
      "(3 rows)\r\n",
      "\r\n"
     ]
    }
   ],
   "source": [
    "!psql -c \"SELECT * FROM pokemon ORDER BY name;\" cs6"
   ]
  },
  {
   "cell_type": "markdown",
   "metadata": {},
   "source": [
    "## 01.05 Updating data\n",
    "With the `update` statement, rows can be updated.\n",
    "\n",
    "Assume we made a mistake when entering the height of Caterpie.\n",
    "\n",
    "<img src=\"https://assets.pokemon.com/assets/cms2/img/pokedex/full/010.png\" width=\"100px\">"
   ]
  },
  {
   "cell_type": "code",
   "execution_count": 12,
   "metadata": {},
   "outputs": [
    {
     "name": "stdout",
     "output_type": "stream",
     "text": [
      "INSERT 0 1\r\n"
     ]
    }
   ],
   "source": [
    "!psql -c \"INSERT INTO pokemon (name, category, height_ft, weight_lbs) \\\n",
    "VALUES ('Caterpie', 'Worm', 42, 6.4);\" cs6"
   ]
  },
  {
   "cell_type": "code",
   "execution_count": 13,
   "metadata": {},
   "outputs": [
    {
     "name": "stdout",
     "output_type": "stream",
     "text": [
      "   name   | height_ft | weight_lbs | category \r\n",
      "----------+-----------+------------+----------\r\n",
      " Caterpie |        42 |        6.4 | Worm\r\n",
      "(1 row)\r\n",
      "\r\n"
     ]
    }
   ],
   "source": [
    "!psql -c \"SELECT * FROM pokemon WHERE name LIKE 'Cater%';\" cs6"
   ]
  },
  {
   "cell_type": "code",
   "execution_count": 14,
   "metadata": {},
   "outputs": [
    {
     "name": "stdout",
     "output_type": "stream",
     "text": [
      "UPDATE 1\r\n"
     ]
    }
   ],
   "source": [
    "!psql -c \"UPDATE pokemon SET height_ft=1.0 WHERE name='Caterpie'\" cs6"
   ]
  },
  {
   "cell_type": "code",
   "execution_count": 15,
   "metadata": {},
   "outputs": [
    {
     "name": "stdout",
     "output_type": "stream",
     "text": [
      "   name   | height_ft | weight_lbs | category \r\n",
      "----------+-----------+------------+----------\r\n",
      " Caterpie |       1.0 |        6.4 | Worm\r\n",
      "(1 row)\r\n",
      "\r\n"
     ]
    }
   ],
   "source": [
    "!psql -c \"SELECT * FROM pokemon WHERE name LIKE 'Cater%';\" cs6"
   ]
  },
  {
   "cell_type": "markdown",
   "metadata": {},
   "source": [
    "## 01.06 Removing rows\n",
    "With the `delete` command individual rows can be removed."
   ]
  },
  {
   "cell_type": "code",
   "execution_count": 16,
   "metadata": {},
   "outputs": [
    {
     "name": "stdout",
     "output_type": "stream",
     "text": [
      "DELETE 1\r\n"
     ]
    }
   ],
   "source": [
    "!psql -c \"DELETE FROM pokemon WHERE name='Caterpie'\" cs6"
   ]
  },
  {
   "cell_type": "code",
   "execution_count": 17,
   "metadata": {},
   "outputs": [
    {
     "name": "stdout",
     "output_type": "stream",
     "text": [
      "    name    | height_ft | weight_lbs |  category   \r\n",
      "------------+-----------+------------+-------------\r\n",
      " Bulbasaur  |      2.04 |       15.2 | Seed\r\n",
      " Squirtle   |      1.08 |       19.8 | Tiny Turtle\r\n",
      " Charmander |      2.00 |       18.7 | Lizard\r\n",
      "(3 rows)\r\n",
      "\r\n"
     ]
    }
   ],
   "source": [
    "!psql -c \"SELECT * FROM pokemon\" cs6"
   ]
  },
  {
   "cell_type": "markdown",
   "metadata": {},
   "source": [
    "# 02 Connecting python to PostgreSQL\n",
    "\n",
    "To use postgresql in a python module, we'll use psycopg2 (http://initd.org/psycopg/)\n",
    "\n",
    "See http://initd.org/psycopg/docs/usage.html for a tutorial on how to use this package."
   ]
  },
  {
   "cell_type": "code",
   "execution_count": 18,
   "metadata": {},
   "outputs": [
    {
     "name": "stdout",
     "output_type": "stream",
     "text": [
      "DELETE 0\r\n"
     ]
    }
   ],
   "source": [
    "!psql -c \"DELETE FROM pokemon WHERE name='Pikachu';\" cs6"
   ]
  },
  {
   "cell_type": "code",
   "execution_count": 19,
   "metadata": {},
   "outputs": [],
   "source": [
    "import psycopg2"
   ]
  },
  {
   "cell_type": "code",
   "execution_count": 20,
   "metadata": {},
   "outputs": [],
   "source": [
    "# connect to existing Postgresql db\n",
    "\n",
    "conn = psycopg2.connect(\"dbname=cs6\")"
   ]
  },
  {
   "cell_type": "code",
   "execution_count": 21,
   "metadata": {},
   "outputs": [],
   "source": [
    "# open cursor to perform db operations\n",
    "# ==> i.e. will start a new transaction\n",
    "cur = conn.cursor()"
   ]
  },
  {
   "cell_type": "code",
   "execution_count": 22,
   "metadata": {},
   "outputs": [
    {
     "data": {
      "text/plain": [
       "[('Bulbasaur', Decimal('2.04'), Decimal('15.2'), 'Seed'),\n",
       " ('Squirtle', Decimal('1.08'), Decimal('19.8'), 'Tiny Turtle'),\n",
       " ('Charmander', Decimal('2.00'), Decimal('18.7'), 'Lizard')]"
      ]
     },
     "execution_count": 22,
     "metadata": {},
     "output_type": "execute_result"
    }
   ],
   "source": [
    "# execute SQL statement\n",
    "# use fetchall to retrieve all results\n",
    "cur.execute(\"SELECT * FROM pokemon\")\n",
    "cur.fetchall()"
   ]
  },
  {
   "cell_type": "code",
   "execution_count": 23,
   "metadata": {},
   "outputs": [
    {
     "data": {
      "text/plain": [
       "('Bulbasaur', Decimal('2.04'), Decimal('15.2'), 'Seed')"
      ]
     },
     "execution_count": 23,
     "metadata": {},
     "output_type": "execute_result"
    }
   ],
   "source": [
    "# execute SQL statement\n",
    "# use fetchone to retrieve one row\n",
    "cur.execute(\"SELECT * FROM pokemon\")\n",
    "cur.fetchone()"
   ]
  },
  {
   "cell_type": "markdown",
   "metadata": {},
   "source": [
    "Of course working with a database gets only interesting if we can work with python objects. Psycopg2 offers soem native mappers of python types to SQL types. A list can be found here <http://initd.org/psycopg/docs/usage.html#adaptation-of-python-values-to-sql-types>"
   ]
  },
  {
   "cell_type": "code",
   "execution_count": 24,
   "metadata": {},
   "outputs": [
    {
     "data": {
      "text/plain": [
       "b\"INSERT INTO pokemon (name, category, height_ft, weight_lbs) VALUES ('Pikachu', 'Mouse', 1.04, 13.2);\""
      ]
     },
     "execution_count": 24,
     "metadata": {},
     "output_type": "execute_result"
    }
   ],
   "source": [
    "# inserting a new pokemon via python\n",
    "\n",
    "name = 'Pikachu'\n",
    "height = 1.04\n",
    "weight = 13.2\n",
    "category = 'Mouse'\n",
    "\n",
    "\n",
    "# PASS PARAMETERS LIKE THIS\n",
    "# always use %s\n",
    "query = cur.mogrify(\"INSERT INTO pokemon (name, category, height_ft, weight_lbs) \\\n",
    "VALUES (%s, %s, %s, %s);\", (name, category, height, weight))\n",
    "query"
   ]
  },
  {
   "cell_type": "code",
   "execution_count": 25,
   "metadata": {},
   "outputs": [],
   "source": [
    "# perform transaction & commit\n",
    "cur.execute(query)\n",
    "conn.commit()"
   ]
  },
  {
   "cell_type": "code",
   "execution_count": 26,
   "metadata": {},
   "outputs": [
    {
     "name": "stdout",
     "output_type": "stream",
     "text": [
      "    name    | height_ft | weight_lbs |  category   \r\n",
      "------------+-----------+------------+-------------\r\n",
      " Bulbasaur  |      2.04 |       15.2 | Seed\r\n",
      " Squirtle   |      1.08 |       19.8 | Tiny Turtle\r\n",
      " Charmander |      2.00 |       18.7 | Lizard\r\n",
      " Pikachu    |      1.04 |       13.2 | Mouse\r\n",
      "(4 rows)\r\n",
      "\r\n"
     ]
    }
   ],
   "source": [
    "!psql -c \"SELECT * FROM pokemon\" cs6"
   ]
  },
  {
   "cell_type": "code",
   "execution_count": 27,
   "metadata": {},
   "outputs": [],
   "source": [
    "# close connection\n",
    "cur.close()\n",
    "conn.close()"
   ]
  },
  {
   "cell_type": "markdown",
   "metadata": {},
   "source": [
    "## 2.02 Escaping user input - IT'S VERY IMPORTANT!\n",
    "\n",
    "NOTE: Never, never construct queries from user input without escaping properly. \n",
    "=> To not make mistakes, use the safe functions provided by psycopg2!\n",
    "\n",
    "Why?\n",
    "\n",
    "Let's see some example:"
   ]
  },
  {
   "cell_type": "code",
   "execution_count": 28,
   "metadata": {},
   "outputs": [
    {
     "name": "stdout",
     "output_type": "stream",
     "text": [
      "DELETE 1\r\n"
     ]
    }
   ],
   "source": [
    "!psql -c \"DELETE FROM pokemon WHERE name='Pikachu';\" cs6"
   ]
  },
  {
   "cell_type": "code",
   "execution_count": 29,
   "metadata": {},
   "outputs": [],
   "source": [
    "conn = psycopg2.connect(\"dbname=cs6\")\n",
    "cur = conn.cursor()"
   ]
  },
  {
   "cell_type": "code",
   "execution_count": 30,
   "metadata": {},
   "outputs": [],
   "source": [
    "# Assume these are coming from a query form: We can destroy the database!\n",
    "\n",
    "name = \"'Pikachu'\"\n",
    "height = 1.04\n",
    "weight = '13.2); SELECT u.* FROM pg_catalog.pg_user u; (SELECT * FROM pg_catalog.pg_user ' # attacker entered this into a form!!!\n",
    "category = \"'Mouse'\""
   ]
  },
  {
   "cell_type": "code",
   "execution_count": 31,
   "metadata": {},
   "outputs": [
    {
     "data": {
      "text/plain": [
       "\"INSERT INTO pokemon (name, category, height_ft, weight_lbs) VALUES ('Pikachu', 'Mouse', 1.04, 13.2); SELECT u.* FROM pg_catalog.pg_user u; (SELECT * FROM pg_catalog.pg_user );\""
      ]
     },
     "execution_count": 31,
     "metadata": {},
     "output_type": "execute_result"
    }
   ],
   "source": [
    "query = \"INSERT INTO pokemon (name, category, height_ft, weight_lbs) \\\n",
    "VALUES ({}, {}, {}, {});\".format(name, category, height, weight)\n",
    "\n",
    "query"
   ]
  },
  {
   "cell_type": "code",
   "execution_count": 32,
   "metadata": {},
   "outputs": [],
   "source": [
    "cur.execute(query)\n",
    "conn.commit()"
   ]
  },
  {
   "cell_type": "code",
   "execution_count": 33,
   "metadata": {},
   "outputs": [
    {
     "data": {
      "text/plain": [
       "[('leos', 10, True, True, True, True, '********', None, None)]"
      ]
     },
     "execution_count": 33,
     "metadata": {},
     "output_type": "execute_result"
    }
   ],
   "source": [
    "# this is output somewhere on a website...\n",
    "cur.fetchall()"
   ]
  },
  {
   "cell_type": "code",
   "execution_count": 34,
   "metadata": {},
   "outputs": [
    {
     "name": "stdout",
     "output_type": "stream",
     "text": [
      "                View \"pg_catalog.pg_user\"\r\n",
      "    Column    |  Type   | Collation | Nullable | Default \r\n",
      "--------------+---------+-----------+----------+---------\r\n",
      " usename      | name    |           |          | \r\n",
      " usesysid     | oid     |           |          | \r\n",
      " usecreatedb  | boolean |           |          | \r\n",
      " usesuper     | boolean |           |          | \r\n",
      " userepl      | boolean |           |          | \r\n",
      " usebypassrls | boolean |           |          | \r\n",
      " passwd       | text    |           |          | \r\n",
      " valuntil     | abstime |           |          | \r\n",
      " useconfig    | text[]  |           |          | \r\n",
      "\r\n"
     ]
    }
   ],
   "source": [
    "!psql -c '\\d pg_catalog.pg_user' cs6"
   ]
  },
  {
   "cell_type": "code",
   "execution_count": 35,
   "metadata": {},
   "outputs": [],
   "source": [
    "cur.close()\n",
    "conn.close()"
   ]
  },
  {
   "cell_type": "markdown",
   "metadata": {},
   "source": [
    "This is called SQL injection. You can read more on this topic under <https://portswigger.net/web-security/sql-injection>"
   ]
  },
  {
   "cell_type": "code",
   "execution_count": null,
   "metadata": {},
   "outputs": [],
   "source": []
  }
 ],
 "metadata": {
  "kernelspec": {
   "display_name": "Python 3",
   "language": "python",
   "name": "python3"
  },
  "language_info": {
   "codemirror_mode": {
    "name": "ipython",
    "version": 3
   },
   "file_extension": ".py",
   "mimetype": "text/x-python",
   "name": "python",
   "nbconvert_exporter": "python",
   "pygments_lexer": "ipython3",
   "version": "3.7.4"
  }
 },
 "nbformat": 4,
 "nbformat_minor": 2
}
