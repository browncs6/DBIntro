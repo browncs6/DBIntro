{
 "cells": [
  {
   "cell_type": "markdown",
   "metadata": {},
   "source": [
    "# 03.00 Document stores\n",
    "Instead of using a ORM like SQLalachemy (or directly tables via SQL), we can store data as documents."
   ]
  },
  {
   "cell_type": "code",
   "execution_count": 1,
   "metadata": {},
   "outputs": [],
   "source": [
    "data = '''{\n",
    "\"title\" : \"Tux states a truth!\",\n",
    "\"text\" : \"Sealions and penguins will never be friends!\",\n",
    "\"author\" : \"Tux\",\n",
    " \"comments\" : [{\"author\" : \"Sealion\",\n",
    " \"text\":\"This is not true, we had fish together last Sunday.\"},\n",
    " {\"author\" : \"Crabby\",\n",
    " \"text\" : \"I so agree, these sealions think they can get away with anything.\"}]\n",
    " }'''"
   ]
  },
  {
   "cell_type": "code",
   "execution_count": 2,
   "metadata": {},
   "outputs": [],
   "source": [
    "import json"
   ]
  },
  {
   "cell_type": "code",
   "execution_count": 3,
   "metadata": {},
   "outputs": [],
   "source": [
    "d = json.loads(data)"
   ]
  },
  {
   "cell_type": "code",
   "execution_count": 4,
   "metadata": {},
   "outputs": [
    {
     "data": {
      "text/plain": [
       "'Tux states a truth!'"
      ]
     },
     "execution_count": 4,
     "metadata": {},
     "output_type": "execute_result"
    }
   ],
   "source": [
    "d['title']"
   ]
  },
  {
   "cell_type": "code",
   "execution_count": 5,
   "metadata": {},
   "outputs": [
    {
     "data": {
      "text/plain": [
       "'Tux'"
      ]
     },
     "execution_count": 5,
     "metadata": {},
     "output_type": "execute_result"
    }
   ],
   "source": [
    "d['author']"
   ]
  },
  {
   "cell_type": "code",
   "execution_count": 6,
   "metadata": {},
   "outputs": [
    {
     "data": {
      "text/plain": [
       "[{'author': 'Sealion',\n",
       "  'text': 'This is not true, we had fish together last Sunday.'},\n",
       " {'author': 'Crabby',\n",
       "  'text': 'I so agree, these sealions think they can get away with anything.'}]"
      ]
     },
     "execution_count": 6,
     "metadata": {},
     "output_type": "execute_result"
    }
   ],
   "source": [
    "d['comments']"
   ]
  },
  {
   "cell_type": "code",
   "execution_count": 8,
   "metadata": {},
   "outputs": [
    {
     "data": {
      "text/plain": [
       "[{'name': 'Pikachu', 'category': 'mouse'},\n",
       " {'name': 'Bulbasaur', 'category': 'seed'},\n",
       " {'name': 'Charmander', 'category': 'lizard'}]"
      ]
     },
     "execution_count": 8,
     "metadata": {},
     "output_type": "execute_result"
    }
   ],
   "source": [
    "[{\"name\" : \"Pikachu\",\n",
    " \"category\" : \"mouse\"},\n",
    "{\"name\" : \"Bulbasaur\",\n",
    "\"category\" : \"seed\"},\n",
    "{\"name\" : \"Charmander\",\n",
    "\"category\" : \"lizard\"}]"
   ]
  },
  {
   "cell_type": "markdown",
   "metadata": {},
   "source": [
    "## 3.01 Connecting to MongoDB\n",
    "For the flask plugin take a look at https://flask-pymongo.readthedocs.io/en/latest/"
   ]
  },
  {
   "cell_type": "code",
   "execution_count": 9,
   "metadata": {},
   "outputs": [],
   "source": [
    "import pymongo"
   ]
  },
  {
   "cell_type": "code",
   "execution_count": 10,
   "metadata": {},
   "outputs": [],
   "source": [
    "client = pymongo.MongoClient()"
   ]
  },
  {
   "cell_type": "code",
   "execution_count": 11,
   "metadata": {},
   "outputs": [
    {
     "data": {
      "text/plain": [
       "MongoClient(host=['localhost:27017'], document_class=dict, tz_aware=False, connect=True)"
      ]
     },
     "execution_count": 11,
     "metadata": {},
     "output_type": "execute_result"
    }
   ],
   "source": [
    "client"
   ]
  },
  {
   "cell_type": "code",
   "execution_count": 15,
   "metadata": {},
   "outputs": [],
   "source": [
    "# create or get a database called cs6\n",
    "db = client['cs6']"
   ]
  },
  {
   "cell_type": "code",
   "execution_count": 16,
   "metadata": {},
   "outputs": [
    {
     "data": {
      "text/plain": [
       "Database(MongoClient(host=['localhost:27017'], document_class=dict, tz_aware=False, connect=True), 'cs6')"
      ]
     },
     "execution_count": 16,
     "metadata": {},
     "output_type": "execute_result"
    }
   ],
   "source": [
    "db"
   ]
  },
  {
   "cell_type": "markdown",
   "metadata": {},
   "source": [
    "## 3.02 Inserting & updating data\n",
    "Let's say we want to add a new document with Pikachu's details"
   ]
  },
  {
   "cell_type": "code",
   "execution_count": 27,
   "metadata": {},
   "outputs": [
    {
     "data": {
      "text/plain": [
       "<pymongo.results.InsertOneResult at 0x103b3d190>"
      ]
     },
     "execution_count": 27,
     "metadata": {},
     "output_type": "execute_result"
    }
   ],
   "source": [
    "db.pokemon.insert_one({'name' : 'Pikachu', 'category' : 'mouse'})"
   ]
  },
  {
   "cell_type": "markdown",
   "metadata": {},
   "source": [
    "To retrieve it, we can use `find` or `find_one`"
   ]
  },
  {
   "cell_type": "code",
   "execution_count": 28,
   "metadata": {},
   "outputs": [
    {
     "data": {
      "text/plain": [
       "[{'_id': ObjectId('5dd416c5fa615e70c81f5f2b'),\n",
       "  'name': 'Pikachu',\n",
       "  'category': 'mouse'}]"
      ]
     },
     "execution_count": 28,
     "metadata": {},
     "output_type": "execute_result"
    }
   ],
   "source": [
    "list(db.pokemon.find())"
   ]
  },
  {
   "cell_type": "markdown",
   "metadata": {},
   "source": [
    "To insert another pokemon, we can also use a python dictionary!"
   ]
  },
  {
   "cell_type": "code",
   "execution_count": 29,
   "metadata": {},
   "outputs": [],
   "source": [
    "p = {'name' : 'Bulbasaur', 'category' : 'seed'}"
   ]
  },
  {
   "cell_type": "code",
   "execution_count": 30,
   "metadata": {},
   "outputs": [
    {
     "data": {
      "text/plain": [
       "<pymongo.results.InsertOneResult at 0x103d65320>"
      ]
     },
     "execution_count": 30,
     "metadata": {},
     "output_type": "execute_result"
    }
   ],
   "source": [
    "db.pokemon.insert_one(p)"
   ]
  },
  {
   "cell_type": "code",
   "execution_count": 31,
   "metadata": {},
   "outputs": [
    {
     "data": {
      "text/plain": [
       "[{'_id': ObjectId('5dd416c5fa615e70c81f5f2b'),\n",
       "  'name': 'Pikachu',\n",
       "  'category': 'mouse'},\n",
       " {'_id': ObjectId('5dd416c7fa615e70c81f5f2c'),\n",
       "  'name': 'Bulbasaur',\n",
       "  'category': 'seed'}]"
      ]
     },
     "execution_count": 31,
     "metadata": {},
     "output_type": "execute_result"
    }
   ],
   "source": [
    "list(db.pokemon.find())"
   ]
  },
  {
   "cell_type": "markdown",
   "metadata": {},
   "source": [
    "What about objects?\n",
    "\n",
    "Unfortunately, they can't be directly stored - again a mapping here not ORM, but ODM = Object Document Mapping is required. \n",
    "Ming is e.g. such a mapper https://ming.readthedocs.io/en/latest/\n",
    "\n",
    "\n",
    "The easiest solution though is to serialize the object as dict or JSON!"
   ]
  },
  {
   "cell_type": "code",
   "execution_count": 39,
   "metadata": {},
   "outputs": [],
   "source": [
    "class Pokemon:\n",
    "    \n",
    "    def __init__(self, name, category):\n",
    "        self.name = name\n",
    "        self.category = category\n",
    "        \n",
    "    def serialize(self):\n",
    "        return {'name' : self.name, 'category' : self.category}"
   ]
  },
  {
   "cell_type": "code",
   "execution_count": 40,
   "metadata": {},
   "outputs": [],
   "source": [
    "p = Pokemon('Charmander', 'lizard')"
   ]
  },
  {
   "cell_type": "code",
   "execution_count": 41,
   "metadata": {},
   "outputs": [
    {
     "data": {
      "text/plain": [
       "<pymongo.results.InsertOneResult at 0x103deb050>"
      ]
     },
     "execution_count": 41,
     "metadata": {},
     "output_type": "execute_result"
    }
   ],
   "source": [
    "db.pokemon.insert_one(p.serialize())"
   ]
  },
  {
   "cell_type": "code",
   "execution_count": 42,
   "metadata": {},
   "outputs": [
    {
     "data": {
      "text/plain": [
       "[{'_id': ObjectId('5dd416c5fa615e70c81f5f2b'),\n",
       "  'name': 'Pikachu',\n",
       "  'category': 'mouse'},\n",
       " {'_id': ObjectId('5dd416c7fa615e70c81f5f2c'),\n",
       "  'name': 'Bulbasaur',\n",
       "  'category': 'seed'},\n",
       " {'_id': ObjectId('5dd41893fa615e70c81f5f2d'),\n",
       "  'name': 'Charmander',\n",
       "  'category': 'lizard'}]"
      ]
     },
     "execution_count": 42,
     "metadata": {},
     "output_type": "execute_result"
    }
   ],
   "source": [
    "list(db.pokemon.find())"
   ]
  },
  {
   "cell_type": "markdown",
   "metadata": {},
   "source": [
    "What if we want to add fields to a document? Thankfully in MongoDB this is very easy! Unlike for a relational database, we don't have to change the schema!"
   ]
  },
  {
   "cell_type": "code",
   "execution_count": 43,
   "metadata": {},
   "outputs": [
    {
     "data": {
      "text/plain": [
       "<pymongo.results.UpdateResult at 0x103f87d20>"
      ]
     },
     "execution_count": 43,
     "metadata": {},
     "output_type": "execute_result"
    }
   ],
   "source": [
    "db.pokemon.update_one({'name' : 'Pikachu'}, {'$set' : {'height' : 1.04, 'weight' : 13.2}})"
   ]
  },
  {
   "cell_type": "code",
   "execution_count": 44,
   "metadata": {},
   "outputs": [
    {
     "data": {
      "text/plain": [
       "{'_id': ObjectId('5dd416c5fa615e70c81f5f2b'),\n",
       " 'name': 'Pikachu',\n",
       " 'category': 'mouse',\n",
       " 'height': 1.04,\n",
       " 'weight': 13.2}"
      ]
     },
     "execution_count": 44,
     "metadata": {},
     "output_type": "execute_result"
    }
   ],
   "source": [
    "db.pokemon.find_one({'name' : 'Pikachu'})"
   ]
  },
  {
   "cell_type": "markdown",
   "metadata": {},
   "source": [
    "Of course there are a lot more operations in MongoDB, https://api.mongodb.com/python/current/ is the primary resource for this and how to use the PyMongo adapter."
   ]
  },
  {
   "cell_type": "markdown",
   "metadata": {},
   "source": [
    "To reset this notebook, use"
   ]
  },
  {
   "cell_type": "code",
   "execution_count": 45,
   "metadata": {},
   "outputs": [],
   "source": [
    "# use this to clear a collection\n",
    "db.pokemon.drop()"
   ]
  },
  {
   "cell_type": "code",
   "execution_count": null,
   "metadata": {},
   "outputs": [],
   "source": []
  }
 ],
 "metadata": {
  "kernelspec": {
   "display_name": "Python 3",
   "language": "python",
   "name": "python3"
  },
  "language_info": {
   "codemirror_mode": {
    "name": "ipython",
    "version": 3
   },
   "file_extension": ".py",
   "mimetype": "text/x-python",
   "name": "python",
   "nbconvert_exporter": "python",
   "pygments_lexer": "ipython3",
   "version": "3.7.4"
  }
 },
 "nbformat": 4,
 "nbformat_minor": 2
}
