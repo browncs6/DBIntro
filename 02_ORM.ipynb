{
 "cells": [
  {
   "cell_type": "markdown",
   "metadata": {},
   "source": [
    "# 2.00 Object Relational Mapping\n",
    "This notebook demonstrates how we can use object relational mapping with Postgres.\n",
    "\n",
    "It uses sqlalchemy as ORM. Install via `pip3 install sqlalchemy` or better, to install alongside the flask plugin use\n",
    "`pip3 install flask_sqlalchemy`"
   ]
  },
  {
   "cell_type": "code",
   "execution_count": 1,
   "metadata": {},
   "outputs": [],
   "source": [
    "import sqlalchemy\n",
    "from sqlalchemy.ext.declarative import declarative_base\n",
    "from sqlalchemy import Column, Integer, String"
   ]
  },
  {
   "cell_type": "code",
   "execution_count": 2,
   "metadata": {},
   "outputs": [],
   "source": [
    "# use optional echo=True to output commands\n",
    "db = sqlalchemy.create_engine('postgresql://localhost/cs6', echo=True)"
   ]
  },
  {
   "cell_type": "code",
   "execution_count": 3,
   "metadata": {},
   "outputs": [],
   "source": [
    "Base = declarative_base()"
   ]
  },
  {
   "cell_type": "code",
   "execution_count": 4,
   "metadata": {},
   "outputs": [],
   "source": [
    "class Animal(Base):\n",
    "    __tablename__ = 'animals'\n",
    "    \n",
    "    id = Column(Integer, primary_key=True)\n",
    "    name = Column(String)\n",
    "    type = Column(String)\n",
    "    \n",
    "    def __repr__(self):\n",
    "        return '{}({})'.format(self.name, self.type)"
   ]
  },
  {
   "cell_type": "code",
   "execution_count": 5,
   "metadata": {},
   "outputs": [
    {
     "data": {
      "text/plain": [
       "Tux(penguin)"
      ]
     },
     "execution_count": 5,
     "metadata": {},
     "output_type": "execute_result"
    }
   ],
   "source": [
    "Animal(name='Tux', type='penguin')"
   ]
  },
  {
   "cell_type": "code",
   "execution_count": 6,
   "metadata": {},
   "outputs": [
    {
     "name": "stdout",
     "output_type": "stream",
     "text": [
      "2019-11-18 23:32:45,696 INFO sqlalchemy.engine.base.Engine select version()\n",
      "2019-11-18 23:32:45,697 INFO sqlalchemy.engine.base.Engine {}\n",
      "2019-11-18 23:32:45,699 INFO sqlalchemy.engine.base.Engine select current_schema()\n",
      "2019-11-18 23:32:45,699 INFO sqlalchemy.engine.base.Engine {}\n",
      "2019-11-18 23:32:45,701 INFO sqlalchemy.engine.base.Engine SELECT CAST('test plain returns' AS VARCHAR(60)) AS anon_1\n",
      "2019-11-18 23:32:45,702 INFO sqlalchemy.engine.base.Engine {}\n",
      "2019-11-18 23:32:45,703 INFO sqlalchemy.engine.base.Engine SELECT CAST('test unicode returns' AS VARCHAR(60)) AS anon_1\n",
      "2019-11-18 23:32:45,703 INFO sqlalchemy.engine.base.Engine {}\n",
      "2019-11-18 23:32:45,704 INFO sqlalchemy.engine.base.Engine show standard_conforming_strings\n",
      "2019-11-18 23:32:45,704 INFO sqlalchemy.engine.base.Engine {}\n",
      "2019-11-18 23:32:45,706 INFO sqlalchemy.engine.base.Engine select relname from pg_class c join pg_namespace n on n.oid=c.relnamespace where pg_catalog.pg_table_is_visible(c.oid) and relname=%(name)s\n",
      "2019-11-18 23:32:45,707 INFO sqlalchemy.engine.base.Engine {'name': 'animals'}\n"
     ]
    }
   ],
   "source": [
    "Base.metadata.create_all(db)"
   ]
  },
  {
   "cell_type": "markdown",
   "metadata": {},
   "source": [
    "## 2.01 Communicating with the database\n",
    "To communicate with the database, we need to create a session object"
   ]
  },
  {
   "cell_type": "code",
   "execution_count": 7,
   "metadata": {},
   "outputs": [],
   "source": [
    "from sqlalchemy.orm import sessionmaker"
   ]
  },
  {
   "cell_type": "code",
   "execution_count": 8,
   "metadata": {},
   "outputs": [],
   "source": [
    "Session = sessionmaker(bind=db)"
   ]
  },
  {
   "cell_type": "code",
   "execution_count": 9,
   "metadata": {},
   "outputs": [],
   "source": [
    "session = Session()"
   ]
  },
  {
   "cell_type": "markdown",
   "metadata": {},
   "source": [
    "Let's say we want to add two new penguins to our database. We can use the above defined class to create instances."
   ]
  },
  {
   "cell_type": "code",
   "execution_count": 10,
   "metadata": {},
   "outputs": [],
   "source": [
    "tux = Animal(name='Tux', type='penguin')\n",
    "tango = Animal(name='Tango', type='penguin')"
   ]
  },
  {
   "cell_type": "markdown",
   "metadata": {},
   "source": [
    "In the next step, we add these objects to the session. So far no SQL queries have been issued to the database."
   ]
  },
  {
   "cell_type": "code",
   "execution_count": 11,
   "metadata": {},
   "outputs": [],
   "source": [
    "session.add(tux)\n",
    "session.add(tango)"
   ]
  },
  {
   "cell_type": "markdown",
   "metadata": {},
   "source": [
    "However, when calling `commit` all changes in the session are flushed to the database."
   ]
  },
  {
   "cell_type": "code",
   "execution_count": 12,
   "metadata": {},
   "outputs": [
    {
     "name": "stdout",
     "output_type": "stream",
     "text": [
      "2019-11-18 23:32:48,031 INFO sqlalchemy.engine.base.Engine BEGIN (implicit)\n",
      "2019-11-18 23:32:48,034 INFO sqlalchemy.engine.base.Engine INSERT INTO animals (name, type) VALUES (%(name)s, %(type)s) RETURNING animals.id\n",
      "2019-11-18 23:32:48,037 INFO sqlalchemy.engine.base.Engine {'name': 'Tux', 'type': 'penguin'}\n",
      "2019-11-18 23:32:48,041 INFO sqlalchemy.engine.base.Engine INSERT INTO animals (name, type) VALUES (%(name)s, %(type)s) RETURNING animals.id\n",
      "2019-11-18 23:32:48,043 INFO sqlalchemy.engine.base.Engine {'name': 'Tango', 'type': 'penguin'}\n",
      "2019-11-18 23:32:48,045 INFO sqlalchemy.engine.base.Engine COMMIT\n"
     ]
    }
   ],
   "source": [
    "session.commit()"
   ]
  },
  {
   "cell_type": "markdown",
   "metadata": {},
   "source": [
    "To retrieve data from the database, we can use sqlalchemy as well:"
   ]
  },
  {
   "cell_type": "code",
   "execution_count": 13,
   "metadata": {},
   "outputs": [
    {
     "name": "stdout",
     "output_type": "stream",
     "text": [
      "2019-11-18 23:32:48,647 INFO sqlalchemy.engine.base.Engine BEGIN (implicit)\n",
      "2019-11-18 23:32:48,649 INFO sqlalchemy.engine.base.Engine SELECT animals.id AS animals_id, animals.name AS animals_name, animals.type AS animals_type \n",
      "FROM animals ORDER BY animals.name\n",
      "2019-11-18 23:32:48,649 INFO sqlalchemy.engine.base.Engine {}\n",
      "Tango penguin\n",
      "Tango penguin\n",
      "Tango penguin\n",
      "Tango penguin\n",
      "Tux penguin\n",
      "Tux penguin\n",
      "Tux penguin\n",
      "Tux penguin\n"
     ]
    }
   ],
   "source": [
    "for animal in session.query(Animal).order_by(Animal.name):\n",
    "    print(animal.name, animal.type)"
   ]
  },
  {
   "cell_type": "markdown",
   "metadata": {},
   "source": [
    "For a complete tutorial on how to use SQLAlchemy accessors see https://docs.sqlalchemy.org/en/13/orm/tutorial.html"
   ]
  },
  {
   "cell_type": "markdown",
   "metadata": {},
   "source": [
    "## 2.02 Relationships\n",
    "\n",
    "Imagine we want to write a simple to do list for users. How could we do that using a database?\n",
    "\n",
    "\n",
    "==> This is a 1 User <=> N todos relationship\n",
    "\n",
    "More on relationships: <https://docs.sqlalchemy.org/en/13/orm/relationships.html>"
   ]
  },
  {
   "cell_type": "code",
   "execution_count": 14,
   "metadata": {},
   "outputs": [],
   "source": [
    "from sqlalchemy import ForeignKey\n",
    "from sqlalchemy.orm import relationship"
   ]
  },
  {
   "cell_type": "code",
   "execution_count": 15,
   "metadata": {},
   "outputs": [],
   "source": [
    "class User(Base):\n",
    "    __tablename__ = 'users'\n",
    "    \n",
    "    id = Column(Integer, primary_key=True)\n",
    "    name = Column(String)\n",
    "    \n",
    "    todos = relationship('Todo', back_populates='user')"
   ]
  },
  {
   "cell_type": "code",
   "execution_count": 16,
   "metadata": {},
   "outputs": [],
   "source": [
    "class Todo(Base):\n",
    "    __tablename__ = 'todos'\n",
    "    \n",
    "    id = Column(Integer, primary_key=True)\n",
    "    note = Column(String)\n",
    "    \n",
    "    user_id = Column(Integer, ForeignKey('users.id'))\n",
    "    user = relationship('User', back_populates='todos')"
   ]
  },
  {
   "cell_type": "markdown",
   "metadata": {},
   "source": [
    "Create necessary tables"
   ]
  },
  {
   "cell_type": "code",
   "execution_count": 17,
   "metadata": {},
   "outputs": [
    {
     "name": "stdout",
     "output_type": "stream",
     "text": [
      "2019-11-18 23:32:51,257 INFO sqlalchemy.engine.base.Engine select relname from pg_class c join pg_namespace n on n.oid=c.relnamespace where pg_catalog.pg_table_is_visible(c.oid) and relname=%(name)s\n",
      "2019-11-18 23:32:51,258 INFO sqlalchemy.engine.base.Engine {'name': 'animals'}\n",
      "2019-11-18 23:32:51,261 INFO sqlalchemy.engine.base.Engine select relname from pg_class c join pg_namespace n on n.oid=c.relnamespace where pg_catalog.pg_table_is_visible(c.oid) and relname=%(name)s\n",
      "2019-11-18 23:32:51,261 INFO sqlalchemy.engine.base.Engine {'name': 'users'}\n",
      "2019-11-18 23:32:51,263 INFO sqlalchemy.engine.base.Engine select relname from pg_class c join pg_namespace n on n.oid=c.relnamespace where pg_catalog.pg_table_is_visible(c.oid) and relname=%(name)s\n",
      "2019-11-18 23:32:51,264 INFO sqlalchemy.engine.base.Engine {'name': 'todos'}\n"
     ]
    }
   ],
   "source": [
    "Base.metadata.create_all(db)"
   ]
  },
  {
   "cell_type": "markdown",
   "metadata": {},
   "source": [
    "Now we can start retrieving a user"
   ]
  },
  {
   "cell_type": "code",
   "execution_count": 18,
   "metadata": {},
   "outputs": [],
   "source": [
    "tux = User(name='Tux')"
   ]
  },
  {
   "cell_type": "code",
   "execution_count": 19,
   "metadata": {},
   "outputs": [],
   "source": [
    "tux.todos.append(Todo(note='Go fishing'))\n",
    "tux.todos.append(Todo(note='Go see sealion'))"
   ]
  },
  {
   "cell_type": "code",
   "execution_count": 20,
   "metadata": {},
   "outputs": [],
   "source": [
    "session.add(tux)"
   ]
  },
  {
   "cell_type": "code",
   "execution_count": 21,
   "metadata": {},
   "outputs": [
    {
     "name": "stdout",
     "output_type": "stream",
     "text": [
      "2019-11-18 23:32:53,474 INFO sqlalchemy.engine.base.Engine INSERT INTO users (name) VALUES (%(name)s) RETURNING users.id\n",
      "2019-11-18 23:32:53,475 INFO sqlalchemy.engine.base.Engine {'name': 'Tux'}\n",
      "2019-11-18 23:32:53,478 INFO sqlalchemy.engine.base.Engine INSERT INTO todos (note, user_id) VALUES (%(note)s, %(user_id)s) RETURNING todos.id\n",
      "2019-11-18 23:32:53,478 INFO sqlalchemy.engine.base.Engine {'note': 'Go fishing', 'user_id': 1}\n",
      "2019-11-18 23:32:53,481 INFO sqlalchemy.engine.base.Engine INSERT INTO todos (note, user_id) VALUES (%(note)s, %(user_id)s) RETURNING todos.id\n",
      "2019-11-18 23:32:53,481 INFO sqlalchemy.engine.base.Engine {'note': 'Go see sealion', 'user_id': 1}\n",
      "2019-11-18 23:32:53,483 INFO sqlalchemy.engine.base.Engine COMMIT\n"
     ]
    }
   ],
   "source": [
    "session.commit()"
   ]
  },
  {
   "cell_type": "markdown",
   "metadata": {},
   "source": [
    "Again, we can make use of SQLAlchemy's builtin mechanisms to retrieve data as objects!"
   ]
  },
  {
   "cell_type": "code",
   "execution_count": 23,
   "metadata": {},
   "outputs": [
    {
     "name": "stdout",
     "output_type": "stream",
     "text": [
      "2019-11-18 23:34:50,544 INFO sqlalchemy.engine.base.Engine BEGIN (implicit)\n",
      "2019-11-18 23:34:50,545 INFO sqlalchemy.engine.base.Engine SELECT todos.id AS todos_id, todos.note AS todos_note, todos.user_id AS todos_user_id \n",
      "FROM todos\n",
      "2019-11-18 23:34:50,546 INFO sqlalchemy.engine.base.Engine {}\n",
      "2019-11-18 23:34:50,549 INFO sqlalchemy.engine.base.Engine SELECT users.id AS users_id, users.name AS users_name \n",
      "FROM users \n",
      "WHERE users.id = %(param_1)s\n",
      "2019-11-18 23:34:50,550 INFO sqlalchemy.engine.base.Engine {'param_1': 1}\n",
      "Tux has \"Go fishing\" to do!\n",
      "Tux has \"Go see sealion\" to do!\n"
     ]
    }
   ],
   "source": [
    "for todo in session.query(Todo):\n",
    "    print('{} has \"{}\" to do!'.format(todo.user.name, todo.note))"
   ]
  },
  {
   "cell_type": "code",
   "execution_count": null,
   "metadata": {},
   "outputs": [],
   "source": []
  }
 ],
 "metadata": {
  "kernelspec": {
   "display_name": "Python 3",
   "language": "python",
   "name": "python3"
  },
  "language_info": {
   "codemirror_mode": {
    "name": "ipython",
    "version": 3
   },
   "file_extension": ".py",
   "mimetype": "text/x-python",
   "name": "python",
   "nbconvert_exporter": "python",
   "pygments_lexer": "ipython3",
   "version": "3.7.4"
  }
 },
 "nbformat": 4,
 "nbformat_minor": 2
}
