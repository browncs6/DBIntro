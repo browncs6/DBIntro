{
 "cells": [
  {
   "cell_type": "markdown",
   "metadata": {},
   "source": [
    "# 04.00 Data analytics\n",
    "SQL can be also performed for essential data analytics. For this, we'll be using the on-time performance dataset for flights in the US from the BTS.\n",
    "\n",
    "You can find a subset of attributes for 2018 under `/course/cs0060/data/otp_flights.tar.gz`\n",
    "\n",
    "I.e. use `scp <your user>@ssh.cs.brown.edu:/course/cs0060/data/otp_flights.tar.gz .` to fetch the data\n",
    "\n",
    "The first step is to load the actual data into PostgreSQL, this can be done using the `COPY` command"
   ]
  },
  {
   "cell_type": "code",
   "execution_count": 1,
   "metadata": {},
   "outputs": [],
   "source": [
    "!mkdir -p data && tar xf otp_flights.tar.gz -C data/"
   ]
  },
  {
   "cell_type": "code",
   "execution_count": 2,
   "metadata": {},
   "outputs": [
    {
     "name": "stdout",
     "output_type": "stream",
     "text": [
      "otp_flights_2018_1.csv  otp_flights_2018_2.csv  otp_flights_2018_6.csv\r\n",
      "otp_flights_2018_10.csv otp_flights_2018_3.csv  otp_flights_2018_7.csv\r\n",
      "otp_flights_2018_11.csv otp_flights_2018_4.csv  otp_flights_2018_8.csv\r\n",
      "otp_flights_2018_12.csv otp_flights_2018_5.csv  otp_flights_2018_9.csv\r\n"
     ]
    }
   ],
   "source": [
    "!ls data"
   ]
  },
  {
   "cell_type": "code",
   "execution_count": 3,
   "metadata": {},
   "outputs": [
    {
     "name": "stdout",
     "output_type": "stream",
     "text": [
      "OP_UNIQUE_CARRIER,OP_CARRIER_FL_NUM,FL_DATE,ORIGIN_CITY_NAME,DEST_CITY_NAME,DISTANCE,DEP_DELAY,ARR_DELAY\r\n",
      "UA,369,2018-01-27,\"Fort Lauderdale, FL\",\"Houston, TX\",966.0,-13.0,-12.0\r\n",
      "UA,368,2018-01-27,\"Seattle, WA\",\"San Francisco, CA\",679.0,-4.0,-18.0\r\n",
      "UA,367,2018-01-27,\"Washington, DC\",\"Houston, TX\",1208.0,-2.0,1.0\r\n",
      "UA,366,2018-01-27,\"Los Angeles, CA\",\"Chicago, IL\",1744.0,-9.0,-8.0\r\n",
      "UA,365,2018-01-27,\"Jacksonville, FL\",\"Newark, NJ\",820.0,-14.0,-24.0\r\n",
      "UA,364,2018-01-27,\"Houston, TX\",\"Phoenix, AZ\",1009.0,-7.0,-19.0\r\n",
      "UA,363,2018-01-27,\"Newark, NJ\",\"Honolulu, HI\",4962.0,27.0,19.0\r\n",
      "UA,362,2018-01-27,\"Honolulu, HI\",\"Newark, NJ\",4962.0,8.0,-23.0\r\n",
      "UA,361,2018-01-27,\"Las Vegas, NV\",\"San Francisco, CA\",414.0,-5.0,-22.0\r\n"
     ]
    }
   ],
   "source": [
    "!head data/otp_flights_2018_1.csv"
   ]
  },
  {
   "cell_type": "code",
   "execution_count": 4,
   "metadata": {},
   "outputs": [
    {
     "name": "stdout",
     "output_type": "stream",
     "text": [
      "CREATE TABLE\r\n"
     ]
    }
   ],
   "source": [
    "!psql -c 'CREATE TABLE flights(OP_UNIQUE_CARRIER VARCHAR, \\\n",
    "OP_CARRIER_FL_NUM NUMERIC, \\\n",
    "FL_DATE VARCHAR, \\\n",
    "ORIGIN_CITY_NAME VARCHAR, \\\n",
    "DEST_CITY_NAME VARCHAR, \\\n",
    "DISTANCE NUMERIC, \\\n",
    "DEP_DELAY NUMERIC, \\\n",
    "ARR_DELAY NUMERIC);' cs6"
   ]
  },
  {
   "cell_type": "code",
   "execution_count": 5,
   "metadata": {},
   "outputs": [
    {
     "name": "stdout",
     "output_type": "stream",
     "text": [
      "                         Table \"public.flights\"\r\n",
      "      Column       |       Type        | Collation | Nullable | Default \r\n",
      "-------------------+-------------------+-----------+----------+---------\r\n",
      " op_unique_carrier | character varying |           |          | \r\n",
      " op_carrier_fl_num | numeric           |           |          | \r\n",
      " fl_date           | character varying |           |          | \r\n",
      " origin_city_name  | character varying |           |          | \r\n",
      " dest_city_name    | character varying |           |          | \r\n",
      " distance          | numeric           |           |          | \r\n",
      " dep_delay         | numeric           |           |          | \r\n",
      " arr_delay         | numeric           |           |          | \r\n",
      "\r\n"
     ]
    }
   ],
   "source": [
    "!psql -c '\\d flights' cs6"
   ]
  },
  {
   "cell_type": "markdown",
   "metadata": {},
   "source": [
    "Loading the data into the database via `COPY FROM`"
   ]
  },
  {
   "cell_type": "code",
   "execution_count": 6,
   "metadata": {},
   "outputs": [
    {
     "name": "stdout",
     "output_type": "stream",
     "text": [
      "COPY 578747\r\n"
     ]
    }
   ],
   "source": [
    "!psql -c \"COPY flights(OP_UNIQUE_CARRIER,OP_CARRIER_FL_NUM,FL_DATE, \\\n",
    "ORIGIN_CITY_NAME,DEST_CITY_NAME,DISTANCE,DEP_DELAY,ARR_DELAY) \\\n",
    "FROM '$(pwd)/data/otp_flights_2018_12.csv' DELIMITER ',' CSV HEADER;\" cs6"
   ]
  },
  {
   "cell_type": "code",
   "execution_count": 7,
   "metadata": {},
   "outputs": [
    {
     "name": "stdout",
     "output_type": "stream",
     "text": [
      " op_unique_carrier | op_carrier_fl_num |  fl_date   | origin_city_name |         dest_city_name         | distance | dep_delay | arr_delay \r\n",
      "-------------------+-------------------+------------+------------------+--------------------------------+----------+-----------+-----------\r\n",
      " 9E                |              3280 | 2018-11-01 | Atlanta, GA      | New Bern/Morehead/Beaufort, NC |    433.0 |      -5.0 |      -6.0\r\n",
      " 9E                |              3280 | 2018-11-02 | Atlanta, GA      | New Bern/Morehead/Beaufort, NC |    433.0 |      -3.0 |      -9.0\r\n",
      " 9E                |              3280 | 2018-11-03 | Atlanta, GA      | New Bern/Morehead/Beaufort, NC |    433.0 |     -12.0 |     -17.0\r\n",
      " 9E                |              3280 | 2018-11-04 | Atlanta, GA      | White Plains, NY               |    780.0 |      -2.0 |     -12.0\r\n",
      " 9E                |              3280 | 2018-11-05 | Atlanta, GA      | White Plains, NY               |    780.0 |       0.0 |       7.0\r\n",
      "(5 rows)\r\n",
      "\r\n"
     ]
    }
   ],
   "source": [
    "!psql -c 'SELECT * FROM flights LIMIT 5;' cs6"
   ]
  },
  {
   "cell_type": "markdown",
   "metadata": {},
   "source": [
    "## 04.01 Basic analytics\n",
    "We can use simple aggregates to get information.\n",
    "\n",
    "Aggregates that can be used are\n",
    "\n",
    "- `AVG` computes average\n",
    "- `SUM` computes sum\n",
    "- `MIN` or `MAX`\n",
    "- ...\n",
    "\n",
    "A complete list is available under https://www.postgresql.org/docs/9.5/functions-aggregate.html\n",
    "\n",
    "I.e. what is the longest flight recorded in the dataset?"
   ]
  },
  {
   "cell_type": "code",
   "execution_count": 8,
   "metadata": {},
   "outputs": [
    {
     "name": "stdout",
     "output_type": "stream",
     "text": [
      "  max   \r\n",
      "--------\r\n",
      " 4983.0\r\n",
      "(1 row)\r\n",
      "\r\n"
     ]
    }
   ],
   "source": [
    "!psql -c 'SELECT MAX(distance) FROM flights;' cs6"
   ]
  },
  {
   "cell_type": "markdown",
   "metadata": {},
   "source": [
    "We can now get the rows which belong to the longest flight"
   ]
  },
  {
   "cell_type": "code",
   "execution_count": 9,
   "metadata": {},
   "outputs": [
    {
     "name": "stdout",
     "output_type": "stream",
     "text": [
      " origin_city_name | dest_city_name \r\n",
      "------------------+----------------\r\n",
      " New York, NY     | Honolulu, HI\r\n",
      " Honolulu, HI     | New York, NY\r\n",
      " Honolulu, HI     | New York, NY\r\n",
      " Honolulu, HI     | New York, NY\r\n",
      " Honolulu, HI     | New York, NY\r\n",
      " Honolulu, HI     | New York, NY\r\n",
      " Honolulu, HI     | New York, NY\r\n",
      " Honolulu, HI     | New York, NY\r\n",
      " Honolulu, HI     | New York, NY\r\n",
      " Honolulu, HI     | New York, NY\r\n",
      " Honolulu, HI     | New York, NY\r\n",
      " Honolulu, HI     | New York, NY\r\n",
      " Honolulu, HI     | New York, NY\r\n",
      " Honolulu, HI     | New York, NY\r\n",
      " Honolulu, HI     | New York, NY\r\n",
      " Honolulu, HI     | New York, NY\r\n",
      " Honolulu, HI     | New York, NY\r\n",
      " Honolulu, HI     | New York, NY\r\n",
      " Honolulu, HI     | New York, NY\r\n",
      " Honolulu, HI     | New York, NY\r\n",
      " Honolulu, HI     | New York, NY\r\n",
      " Honolulu, HI     | New York, NY\r\n",
      " Honolulu, HI     | New York, NY\r\n",
      " Honolulu, HI     | New York, NY\r\n",
      " Honolulu, HI     | New York, NY\r\n",
      " Honolulu, HI     | New York, NY\r\n",
      " Honolulu, HI     | New York, NY\r\n",
      " Honolulu, HI     | New York, NY\r\n",
      " Honolulu, HI     | New York, NY\r\n",
      " Honolulu, HI     | New York, NY\r\n",
      " Honolulu, HI     | New York, NY\r\n",
      " New York, NY     | Honolulu, HI\r\n",
      " New York, NY     | Honolulu, HI\r\n",
      " New York, NY     | Honolulu, HI\r\n",
      " New York, NY     | Honolulu, HI\r\n",
      " New York, NY     | Honolulu, HI\r\n",
      " New York, NY     | Honolulu, HI\r\n",
      " New York, NY     | Honolulu, HI\r\n",
      " New York, NY     | Honolulu, HI\r\n",
      " New York, NY     | Honolulu, HI\r\n",
      " New York, NY     | Honolulu, HI\r\n",
      " New York, NY     | Honolulu, HI\r\n",
      " New York, NY     | Honolulu, HI\r\n",
      " New York, NY     | Honolulu, HI\r\n",
      " New York, NY     | Honolulu, HI\r\n",
      " New York, NY     | Honolulu, HI\r\n",
      " New York, NY     | Honolulu, HI\r\n",
      " New York, NY     | Honolulu, HI\r\n",
      " New York, NY     | Honolulu, HI\r\n",
      " New York, NY     | Honolulu, HI\r\n",
      " New York, NY     | Honolulu, HI\r\n",
      " New York, NY     | Honolulu, HI\r\n",
      " New York, NY     | Honolulu, HI\r\n",
      " New York, NY     | Honolulu, HI\r\n",
      " New York, NY     | Honolulu, HI\r\n",
      " New York, NY     | Honolulu, HI\r\n",
      " New York, NY     | Honolulu, HI\r\n",
      " New York, NY     | Honolulu, HI\r\n",
      " New York, NY     | Honolulu, HI\r\n",
      "(59 rows)\r\n",
      "\r\n"
     ]
    }
   ],
   "source": [
    "!psql -c 'SElECT origin_city_name, dest_city_name FROM flights WHERE distance=4983.0' cs6"
   ]
  },
  {
   "cell_type": "markdown",
   "metadata": {},
   "source": [
    "As we can see, the output is quite long because all pairs where returned!\n",
    "==> we can shorten it by using the DISTINCT keyword to eliminate the duplicates"
   ]
  },
  {
   "cell_type": "code",
   "execution_count": 10,
   "metadata": {},
   "outputs": [
    {
     "name": "stdout",
     "output_type": "stream",
     "text": [
      " origin_city_name | dest_city_name \r\n",
      "------------------+----------------\r\n",
      " Honolulu, HI     | New York, NY\r\n",
      " New York, NY     | Honolulu, HI\r\n",
      "(2 rows)\r\n",
      "\r\n"
     ]
    }
   ],
   "source": [
    "!psql -c 'SElECT DISTINCT origin_city_name, dest_city_name FROM flights WHERE distance=4983.0' cs6"
   ]
  },
  {
   "cell_type": "markdown",
   "metadata": {},
   "source": [
    "## 04.02 Joining other datasets\n",
    "Sometimes there is information stored in other tables which we would like to combine with the current data.\n",
    "\n",
    "For this, let's ask the following question:\n",
    "\n",
    "Which carrier serves the most flights from New York? "
   ]
  },
  {
   "cell_type": "code",
   "execution_count": 11,
   "metadata": {},
   "outputs": [
    {
     "name": "stdout",
     "output_type": "stream",
     "text": [
      " op_unique_carrier | count \r\n",
      "-------------------+-------\r\n",
      " DL                |  4304\r\n",
      " B6                |  3950\r\n",
      " 9E                |  3643\r\n",
      " AA                |  3116\r\n",
      " YX                |  2823\r\n",
      " MQ                |  1608\r\n",
      " OO                |  1166\r\n",
      " WN                |   982\r\n",
      " UA                |   790\r\n",
      " AS                |   408\r\n",
      " NK                |   321\r\n",
      " OH                |   223\r\n",
      " EV                |   159\r\n",
      " YV                |   139\r\n",
      " F9                |    87\r\n",
      " HA                |    29\r\n",
      "(16 rows)\r\n",
      "\r\n"
     ]
    }
   ],
   "source": [
    "!psql -c \"SELECT op_unique_carrier, COUNT(*) FROM flights WHERE origin_city_name \\\n",
    "LIKE '%New York%' GROUP BY op_unique_carrier ORDER BY COUNT(*) DESC;\" cs6"
   ]
  },
  {
   "cell_type": "markdown",
   "metadata": {},
   "source": [
    "The carrier code here however is unreadable, but there is a lookup table which we can join in!"
   ]
  },
  {
   "cell_type": "code",
   "execution_count": 12,
   "metadata": {},
   "outputs": [
    {
     "name": "stdout",
     "output_type": "stream",
     "text": [
      "Code,Description\r",
      "\r\n",
      "\"02Q\",\"Titan Airways\"\r",
      "\r\n",
      "\"04Q\",\"Tradewind Aviation\"\r",
      "\r\n",
      "\"05Q\",\"Comlux Aviation, AG\"\r",
      "\r\n",
      "\"06Q\",\"Master Top Linhas Aereas Ltd.\"\r",
      "\r\n",
      "\"07Q\",\"Flair Airlines Ltd.\"\r",
      "\r\n",
      "\"09Q\",\"Swift Air, LLC d/b/a Eastern Air Lines d/b/a Eastern\"\r",
      "\r\n",
      "\"0BQ\",\"DCA\"\r",
      "\r\n",
      "\"0CQ\",\"ACM AIR CHARTER GmbH\"\r",
      "\r\n",
      "\"0FQ\",\"Maine Aviation Aircraft Charter, LLC\"\r",
      "\r\n"
     ]
    }
   ],
   "source": [
    "!head airlines.csv"
   ]
  },
  {
   "cell_type": "code",
   "execution_count": 13,
   "metadata": {},
   "outputs": [
    {
     "name": "stdout",
     "output_type": "stream",
     "text": [
      "CREATE TABLE\r\n"
     ]
    }
   ],
   "source": [
    "!psql -c 'CREATE TABLE airlines(code VARCHAR, name VARCHAR);' cs6"
   ]
  },
  {
   "cell_type": "code",
   "execution_count": 14,
   "metadata": {},
   "outputs": [
    {
     "name": "stdout",
     "output_type": "stream",
     "text": [
      "COPY 1665\r\n"
     ]
    }
   ],
   "source": [
    "!psql -c \"COPY airlines(code, name) FROM '$(pwd)/airlines.csv' DELIMITER ',' CSV HEADER;\" cs6"
   ]
  },
  {
   "cell_type": "markdown",
   "metadata": {},
   "source": [
    "Let's now join this table with the flights!"
   ]
  },
  {
   "cell_type": "code",
   "execution_count": 15,
   "metadata": {},
   "outputs": [
    {
     "name": "stdout",
     "output_type": "stream",
     "text": [
      "          name           | origin_city_name |   dest_city_name    \r\n",
      "-------------------------+------------------+---------------------\r\n",
      " Allegiant Air           | Providence, RI   | Punta Gorda, FL\r\n",
      " Allegiant Air           | Providence, RI   | St. Petersburg, FL\r\n",
      " American Airlines Inc.  | Providence, RI   | Charlotte, NC\r\n",
      " American Airlines Inc.  | Providence, RI   | Philadelphia, PA\r\n",
      " Delta Air Lines Inc.    | Providence, RI   | Atlanta, GA\r\n",
      " Delta Air Lines Inc.    | Providence, RI   | Detroit, MI\r\n",
      " Endeavor Air Inc.       | Providence, RI   | Detroit, MI\r\n",
      " Envoy Air               | Providence, RI   | Chicago, IL\r\n",
      " ExpressJet Airlines LLC | Providence, RI   | Newark, NJ\r\n",
      " Frontier Airlines Inc.  | Providence, RI   | Charlotte, NC\r\n",
      " Frontier Airlines Inc.  | Providence, RI   | Denver, CO\r\n",
      " Frontier Airlines Inc.  | Providence, RI   | Fort Myers, FL\r\n",
      " Frontier Airlines Inc.  | Providence, RI   | Myrtle Beach, SC\r\n",
      " Frontier Airlines Inc.  | Providence, RI   | Orlando, FL\r\n",
      " Frontier Airlines Inc.  | Providence, RI   | Raleigh/Durham, NC\r\n",
      " Frontier Airlines Inc.  | Providence, RI   | Tampa, FL\r\n",
      " JetBlue Airways         | Providence, RI   | Fort Lauderdale, FL\r\n",
      " JetBlue Airways         | Providence, RI   | Orlando, FL\r\n",
      " Mesa Airlines Inc.      | Providence, RI   | Washington, DC\r\n",
      " PSA Airlines Inc.       | Providence, RI   | Charlotte, NC\r\n",
      " PSA Airlines Inc.       | Providence, RI   | Washington, DC\r\n",
      " Republic Airline        | Providence, RI   | Chicago, IL\r\n",
      " Republic Airline        | Providence, RI   | Newark, NJ\r\n",
      " Republic Airline        | Providence, RI   | Philadelphia, PA\r\n",
      " Republic Airline        | Providence, RI   | Washington, DC\r\n",
      " SkyWest Airlines Inc.   | Providence, RI   | Detroit, MI\r\n",
      " Southwest Airlines Co.  | Providence, RI   | Baltimore, MD\r\n",
      " Southwest Airlines Co.  | Providence, RI   | Chicago, IL\r\n",
      " Southwest Airlines Co.  | Providence, RI   | Fort Lauderdale, FL\r\n",
      " Southwest Airlines Co.  | Providence, RI   | Orlando, FL\r\n",
      " Southwest Airlines Co.  | Providence, RI   | Tampa, FL\r\n",
      " Southwest Airlines Co.  | Providence, RI   | Washington, DC\r\n",
      " United Air Lines Inc.   | Providence, RI   | Chicago, IL\r\n",
      " United Air Lines Inc.   | Providence, RI   | Newark, NJ\r\n",
      "(34 rows)\r\n",
      "\r\n"
     ]
    }
   ],
   "source": [
    "!psql -c \"SELECT DISTINCT a.name, f.origin_city_name, f.dest_city_name \\\n",
    "FROM flights f JOIN airlines a ON f.op_unique_carrier = a.code WHERE f.origin_city_name LIKE '%Providence%'\" cs6"
   ]
  },
  {
   "cell_type": "code",
   "execution_count": 16,
   "metadata": {},
   "outputs": [
    {
     "name": "stdout",
     "output_type": "stream",
     "text": [
      "          name           | count \r\n",
      "-------------------------+-------\r\n",
      " Delta Air Lines Inc.    |  4304\r\n",
      " JetBlue Airways         |  3950\r\n",
      " Endeavor Air Inc.       |  3643\r\n",
      " American Airlines Inc.  |  3116\r\n",
      " Republic Airline        |  2823\r\n",
      " Envoy Air               |  1608\r\n",
      " SkyWest Airlines Inc.   |  1166\r\n",
      " Southwest Airlines Co.  |   982\r\n",
      " United Air Lines Inc.   |   790\r\n",
      " Alaska Airlines Inc.    |   408\r\n",
      " Spirit Air Lines        |   321\r\n",
      " PSA Airlines Inc.       |   223\r\n",
      " ExpressJet Airlines LLC |   159\r\n",
      " Mesa Airlines Inc.      |   139\r\n",
      " Frontier Airlines Inc.  |    87\r\n",
      " Hawaiian Airlines Inc.  |    29\r\n",
      "(16 rows)\r\n",
      "\r\n"
     ]
    }
   ],
   "source": [
    "!psql -c \"SELECT a.name, COUNT(*) FROM flights f JOIN airlines a ON f.op_unique_carrier = a.code \\\n",
    "WHERE origin_city_name LIKE '%New York%' \\\n",
    "GROUP BY a.name ORDER BY COUNT(*) DESC;\" cs6"
   ]
  },
  {
   "cell_type": "markdown",
   "metadata": {},
   "source": [
    "==> I.e. Delta Air Lines seems to operate the most flights out of NYC!\n",
    "\n",
    "How about Pvd?"
   ]
  },
  {
   "cell_type": "code",
   "execution_count": 17,
   "metadata": {},
   "outputs": [
    {
     "name": "stdout",
     "output_type": "stream",
     "text": [
      "          name           | count \r\n",
      "-------------------------+-------\r\n",
      " Southwest Airlines Co.  |   541\r\n",
      " American Airlines Inc.  |   276\r\n",
      " PSA Airlines Inc.       |   159\r\n",
      " Delta Air Lines Inc.    |   111\r\n",
      " Republic Airline        |   104\r\n",
      " Mesa Airlines Inc.      |    88\r\n",
      " JetBlue Airways         |    87\r\n",
      " Frontier Airlines Inc.  |    60\r\n",
      " Envoy Air               |    52\r\n",
      " United Air Lines Inc.   |    30\r\n",
      " ExpressJet Airlines LLC |    27\r\n",
      " Endeavor Air Inc.       |    22\r\n",
      " SkyWest Airlines Inc.   |    20\r\n",
      " Allegiant Air           |    17\r\n",
      "(14 rows)\r\n",
      "\r\n"
     ]
    }
   ],
   "source": [
    "!psql -c \"SELECT a.name, COUNT(*) FROM flights f JOIN airlines a ON f.op_unique_carrier = a.code \\\n",
    "WHERE origin_city_name LIKE '%Providence%' \\\n",
    "GROUP BY a.name ORDER BY COUNT(*) DESC;\" cs6"
   ]
  },
  {
   "cell_type": "markdown",
   "metadata": {},
   "source": [
    "To reset this notebook's db, run"
   ]
  },
  {
   "cell_type": "code",
   "execution_count": 18,
   "metadata": {},
   "outputs": [
    {
     "name": "stdout",
     "output_type": "stream",
     "text": [
      "DROP TABLE\r\n"
     ]
    }
   ],
   "source": [
    "!psql -c \"DROP TABLE airlines; DROP TABLE flights;\" cs6"
   ]
  },
  {
   "cell_type": "markdown",
   "metadata": {},
   "source": [
    "## 04.03 Data analytics in MongoDB\n",
    "\n",
    "MongoDB also provides data aggregation features, however it's a bit more complicated than writing SQL-statements. Rather, to use aggregation across documents you'll need to define in MongoDB an aggregation pipeline:\n",
    "\n",
    "https://docs.mongodb.com/manual/aggregation/"
   ]
  },
  {
   "cell_type": "code",
   "execution_count": 19,
   "metadata": {},
   "outputs": [],
   "source": [
    "import pymongo\n",
    "\n",
    "client = pymongo.MongoClient()\n",
    "\n",
    "db = client['cs6']"
   ]
  },
  {
   "cell_type": "markdown",
   "metadata": {},
   "source": [
    "Let's load the flight data into MongoDB"
   ]
  },
  {
   "cell_type": "code",
   "execution_count": 20,
   "metadata": {},
   "outputs": [],
   "source": [
    "import csv"
   ]
  },
  {
   "cell_type": "code",
   "execution_count": 25,
   "metadata": {},
   "outputs": [
    {
     "name": "stdout",
     "output_type": "stream",
     "text": [
      "CPU times: user 10.1 s, sys: 416 ms, total: 10.5 s\n",
      "Wall time: 13.2 s\n"
     ]
    }
   ],
   "source": [
    "%%time\n",
    "with open('data/otp_flights_2018_1.csv') as fp:\n",
    "    reader = csv.DictReader(fp)\n",
    "    \n",
    "    rows = [dict(row) for row in reader]\n",
    "    \n",
    "    db.flights.insert_many(rows)"
   ]
  },
  {
   "cell_type": "code",
   "execution_count": 27,
   "metadata": {},
   "outputs": [
    {
     "data": {
      "text/plain": [
       "{'_id': ObjectId('5dd4402bfa615e770ac935f2'),\n",
       " 'OP_UNIQUE_CARRIER': 'UA',\n",
       " 'OP_CARRIER_FL_NUM': '369',\n",
       " 'FL_DATE': '2018-01-27',\n",
       " 'ORIGIN_CITY_NAME': 'Fort Lauderdale, FL',\n",
       " 'DEST_CITY_NAME': 'Houston, TX',\n",
       " 'DISTANCE': '966.0',\n",
       " 'DEP_DELAY': '-13.0',\n",
       " 'ARR_DELAY': '-12.0'}"
      ]
     },
     "execution_count": 27,
     "metadata": {},
     "output_type": "execute_result"
    }
   ],
   "source": [
    "db.flights.find_one()"
   ]
  },
  {
   "cell_type": "markdown",
   "metadata": {},
   "source": [
    "Let's try to do the same query above for New York in MongoDB!"
   ]
  },
  {
   "cell_type": "code",
   "execution_count": 34,
   "metadata": {},
   "outputs": [
    {
     "data": {
      "text/plain": [
       "{'_id': ObjectId('5dd4402bfa615e770ac93688'),\n",
       " 'OP_UNIQUE_CARRIER': 'UA',\n",
       " 'OP_CARRIER_FL_NUM': '222',\n",
       " 'FL_DATE': '2018-01-27',\n",
       " 'ORIGIN_CITY_NAME': 'New York, NY',\n",
       " 'DEST_CITY_NAME': 'Chicago, IL',\n",
       " 'DISTANCE': '733.0',\n",
       " 'DEP_DELAY': '67.0',\n",
       " 'ARR_DELAY': '44.0'}"
      ]
     },
     "execution_count": 34,
     "metadata": {},
     "output_type": "execute_result"
    }
   ],
   "source": [
    "db.flights.find_one({'ORIGIN_CITY_NAME' : {'$regex' : 'New York'}})"
   ]
  },
  {
   "cell_type": "markdown",
   "metadata": {},
   "source": [
    "First step is to define a simple counting pipeline, which restricts documents to the ones belonging to flights originating in New York"
   ]
  },
  {
   "cell_type": "code",
   "execution_count": 41,
   "metadata": {},
   "outputs": [
    {
     "data": {
      "text/plain": [
       "[{'_id': 'YX', 'total': 2702},\n",
       " {'_id': 'WN', 'total': 857},\n",
       " {'_id': 'VX', 'total': 337},\n",
       " {'_id': 'DL', 'total': 3949},\n",
       " {'_id': 'OH', 'total': 184},\n",
       " {'_id': 'F9', 'total': 86},\n",
       " {'_id': 'OO', 'total': 249},\n",
       " {'_id': 'MQ', 'total': 1102},\n",
       " {'_id': 'YV', 'total': 118},\n",
       " {'_id': 'EV', 'total': 1097},\n",
       " {'_id': 'B6', 'total': 3630},\n",
       " {'_id': 'NK', 'total': 325},\n",
       " {'_id': 'AA', 'total': 2951},\n",
       " {'_id': 'HA', 'total': 30},\n",
       " {'_id': 'AS', 'total': 58},\n",
       " {'_id': '9E', 'total': 3627},\n",
       " {'_id': 'UA', 'total': 623}]"
      ]
     },
     "execution_count": 41,
     "metadata": {},
     "output_type": "execute_result"
    }
   ],
   "source": [
    "res = db.flights.aggregate([{'$match' : {'ORIGIN_CITY_NAME' : {'$regex' : 'New York'}}},\n",
    "                    {'$group' : {'_id' : '$OP_UNIQUE_CARRIER', 'total': { '$sum' : 1}}}])\n",
    "\n",
    "list(res)"
   ]
  },
  {
   "cell_type": "markdown",
   "metadata": {},
   "source": [
    "Second step is to sort the result"
   ]
  },
  {
   "cell_type": "code",
   "execution_count": 43,
   "metadata": {},
   "outputs": [
    {
     "data": {
      "text/plain": [
       "[{'_id': 'DL', 'total': 3949},\n",
       " {'_id': 'B6', 'total': 3630},\n",
       " {'_id': '9E', 'total': 3627},\n",
       " {'_id': 'AA', 'total': 2951},\n",
       " {'_id': 'YX', 'total': 2702},\n",
       " {'_id': 'MQ', 'total': 1102},\n",
       " {'_id': 'EV', 'total': 1097},\n",
       " {'_id': 'WN', 'total': 857},\n",
       " {'_id': 'UA', 'total': 623},\n",
       " {'_id': 'VX', 'total': 337},\n",
       " {'_id': 'NK', 'total': 325},\n",
       " {'_id': 'OO', 'total': 249},\n",
       " {'_id': 'OH', 'total': 184},\n",
       " {'_id': 'YV', 'total': 118},\n",
       " {'_id': 'F9', 'total': 86},\n",
       " {'_id': 'AS', 'total': 58},\n",
       " {'_id': 'HA', 'total': 30}]"
      ]
     },
     "execution_count": 43,
     "metadata": {},
     "output_type": "execute_result"
    }
   ],
   "source": [
    "res = db.flights.aggregate([{'$match' : {'ORIGIN_CITY_NAME' : {'$regex' : 'New York'}}},\n",
    "                    {'$group' : {'_id' : '$OP_UNIQUE_CARRIER', 'total': { '$sum' : 1}}},\n",
    "                           {'$sort' : {'total' : -1}}]) # 1 for ascending, -1 for descending\n",
    "\n",
    "list(res)"
   ]
  },
  {
   "cell_type": "markdown",
   "metadata": {},
   "source": [
    "The `_id` field looks rather unpleasant, but it can be renamed"
   ]
  },
  {
   "cell_type": "code",
   "execution_count": 48,
   "metadata": {},
   "outputs": [
    {
     "data": {
      "text/plain": [
       "[{'total': 3949, 'carrier_code': 'DL'},\n",
       " {'total': 3630, 'carrier_code': 'B6'},\n",
       " {'total': 3627, 'carrier_code': '9E'},\n",
       " {'total': 2951, 'carrier_code': 'AA'},\n",
       " {'total': 2702, 'carrier_code': 'YX'},\n",
       " {'total': 1102, 'carrier_code': 'MQ'},\n",
       " {'total': 1097, 'carrier_code': 'EV'},\n",
       " {'total': 857, 'carrier_code': 'WN'},\n",
       " {'total': 623, 'carrier_code': 'UA'},\n",
       " {'total': 337, 'carrier_code': 'VX'},\n",
       " {'total': 325, 'carrier_code': 'NK'},\n",
       " {'total': 249, 'carrier_code': 'OO'},\n",
       " {'total': 184, 'carrier_code': 'OH'},\n",
       " {'total': 118, 'carrier_code': 'YV'},\n",
       " {'total': 86, 'carrier_code': 'F9'},\n",
       " {'total': 58, 'carrier_code': 'AS'},\n",
       " {'total': 30, 'carrier_code': 'HA'}]"
      ]
     },
     "execution_count": 48,
     "metadata": {},
     "output_type": "execute_result"
    }
   ],
   "source": [
    "res = db.flights.aggregate([{'$match' : {'ORIGIN_CITY_NAME' : {'$regex' : 'New York'}}},\n",
    "                    {'$group' : {'_id' : '$OP_UNIQUE_CARRIER', 'total': { '$sum' : 1}}},\n",
    "                           {'$sort' : {'total' : -1}},\n",
    "                           {'$project' : {'_id' : 0, 'carrier_code' : '$_id', 'total' : 1}}]) # 1 for ascending, -1 for descending\n",
    "\n",
    "list(res)"
   ]
  },
  {
   "cell_type": "markdown",
   "metadata": {},
   "source": [
    "What is missing though is the lookup on the airline name. This can be also done in MongoDB!"
   ]
  },
  {
   "cell_type": "code",
   "execution_count": 47,
   "metadata": {},
   "outputs": [
    {
     "name": "stdout",
     "output_type": "stream",
     "text": [
      "CPU times: user 148 ms, sys: 66 ms, total: 214 ms\n",
      "Wall time: 405 ms\n"
     ]
    }
   ],
   "source": [
    "%%time\n",
    "with open('airlines.csv') as fp:\n",
    "    reader = csv.DictReader(fp)\n",
    "    \n",
    "    rows = [dict(row) for row in reader]\n",
    "    \n",
    "    db.airlines.insert_many(rows)"
   ]
  },
  {
   "cell_type": "code",
   "execution_count": 84,
   "metadata": {},
   "outputs": [
    {
     "data": {
      "text/plain": [
       "[{'total': 3949,\n",
       "  'carrier_code': 'DL',\n",
       "  'airline': [{'_id': ObjectId('5dd442b0fa615e770ad1a31d'),\n",
       "    'Code': 'DL',\n",
       "    'Description': 'Delta Air Lines Inc.'}]},\n",
       " {'total': 3630,\n",
       "  'carrier_code': 'B6',\n",
       "  'airline': [{'_id': ObjectId('5dd442b0fa615e770ad1a264'),\n",
       "    'Code': 'B6',\n",
       "    'Description': 'JetBlue Airways'}]},\n",
       " {'total': 3627,\n",
       "  'carrier_code': '9E',\n",
       "  'airline': [{'_id': ObjectId('5dd442b0fa615e770ad1a1ac'),\n",
       "    'Code': '9E',\n",
       "    'Description': 'Endeavor Air Inc.'}]},\n",
       " {'total': 2951,\n",
       "  'carrier_code': 'AA',\n",
       "  'airline': [{'_id': ObjectId('5dd442b0fa615e770ad1a1bc'),\n",
       "    'Code': 'AA',\n",
       "    'Description': 'American Airlines Inc.'}]},\n",
       " {'total': 2702,\n",
       "  'carrier_code': 'YX',\n",
       "  'airline': [{'_id': ObjectId('5dd442b0fa615e770ad1a76c'),\n",
       "    'Code': 'YX',\n",
       "    'Description': 'Republic Airline'}]}]"
      ]
     },
     "execution_count": 84,
     "metadata": {},
     "output_type": "execute_result"
    }
   ],
   "source": [
    "res = db.flights.aggregate([{'$match' : {'ORIGIN_CITY_NAME' : {'$regex' : 'New York'}}},\n",
    "                    {'$group' : {'_id' : '$OP_UNIQUE_CARRIER', 'total': { '$sum' : 1}}},\n",
    "                           {'$sort' : {'total' : -1}},\n",
    "                           {'$project' : {'_id' : 0, 'carrier_code' : '$_id', 'total' : 1}},\n",
    "                           {'$lookup' : {'from' : 'airlines', \n",
    "                                         'localField' : 'carrier_code',\n",
    "                                         'foreignField' : 'Code',\n",
    "                                         'as' : 'airline'}}]) # 1 for ascending, -1 for descending\n",
    "\n",
    "list(res)[:5]"
   ]
  },
  {
   "cell_type": "markdown",
   "metadata": {},
   "source": [
    "Again, some projection is needed to get things nicely formatted!"
   ]
  },
  {
   "cell_type": "code",
   "execution_count": 83,
   "metadata": {},
   "outputs": [
    {
     "data": {
      "text/plain": [
       "[{'total': 3949, 'airline': 'Delta Air Lines Inc.'},\n",
       " {'total': 3630, 'airline': 'JetBlue Airways'},\n",
       " {'total': 3627, 'airline': 'Endeavor Air Inc.'},\n",
       " {'total': 2951, 'airline': 'American Airlines Inc.'},\n",
       " {'total': 2702, 'airline': 'Republic Airline'},\n",
       " {'total': 1102, 'airline': 'Envoy Air'},\n",
       " {'total': 1097, 'airline': 'ExpressJet Airlines LLC'},\n",
       " {'total': 857, 'airline': 'Southwest Airlines Co.'},\n",
       " {'total': 623, 'airline': 'United Air Lines Inc.'},\n",
       " {'total': 337, 'airline': 'Virgin America'},\n",
       " {'total': 325, 'airline': 'Spirit Air Lines'},\n",
       " {'total': 249, 'airline': 'SkyWest Airlines Inc.'},\n",
       " {'total': 184, 'airline': 'PSA Airlines Inc.'},\n",
       " {'total': 118, 'airline': 'Mesa Airlines Inc.'},\n",
       " {'total': 86, 'airline': 'Frontier Airlines Inc.'},\n",
       " {'total': 58, 'airline': 'Alaska Airlines Inc.'},\n",
       " {'total': 30, 'airline': 'Hawaiian Airlines Inc.'}]"
      ]
     },
     "execution_count": 83,
     "metadata": {},
     "output_type": "execute_result"
    }
   ],
   "source": [
    "res = db.flights.aggregate([{'$match' : {'ORIGIN_CITY_NAME' : {'$regex' : 'New York'}}},\n",
    "                    {'$group' : {'_id' : '$OP_UNIQUE_CARRIER', 'total': { '$sum' : 1}}},\n",
    "                           {'$sort' : {'total' : -1}},\n",
    "                           {'$project' : {'_id' : 0, 'carrier_code' : '$_id', 'total' : 1}},\n",
    "                           {'$lookup' : {'from' : 'airlines', \n",
    "                                         'localField' : 'carrier_code',\n",
    "                                         'foreignField' : 'Code',\n",
    "                                         'as' : 'airline'}},\n",
    "                           {'$project' : {'total' : 1, 'airline' : {\n",
    "                               '$arrayElemAt': [ '$airline.Description', 0 ] }\n",
    "                                         }\n",
    "                           }])\n",
    "\n",
    "list(res)"
   ]
  },
  {
   "cell_type": "markdown",
   "metadata": {},
   "source": [
    "To reset the mongodb collection, use"
   ]
  },
  {
   "cell_type": "code",
   "execution_count": 85,
   "metadata": {},
   "outputs": [],
   "source": [
    "db.flights.drop()\n",
    "db.airlines.drop()"
   ]
  },
  {
   "cell_type": "code",
   "execution_count": null,
   "metadata": {},
   "outputs": [],
   "source": []
  }
 ],
 "metadata": {
  "kernelspec": {
   "display_name": "Python 3",
   "language": "python",
   "name": "python3"
  },
  "language_info": {
   "codemirror_mode": {
    "name": "ipython",
    "version": 3
   },
   "file_extension": ".py",
   "mimetype": "text/x-python",
   "name": "python",
   "nbconvert_exporter": "python",
   "pygments_lexer": "ipython3",
   "version": "3.7.4"
  }
 },
 "nbformat": 4,
 "nbformat_minor": 2
}
