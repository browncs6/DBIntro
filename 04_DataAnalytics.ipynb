{
 "cells": [
  {
   "cell_type": "markdown",
   "metadata": {},
   "source": [
    "# 04.00 Data analytics\n",
    "SQL can be also performed for essential data analytics. For this, we'll be using the on-time performance dataset for flights in the US from the BTS.\n",
    "\n",
    "You can find a subset of attributes for 2018 under `/course/cs0060/data/otp_flights.tar.gz`\n",
    "\n",
    "I.e. use `scp <your user>@ssh.cs.brown.edu:/course/cs0060/data/otp_flights.tar.gz .` to fetch the data\n",
    "\n",
    "The first step is to load the actual data into PostgreSQL, this can be done using the `COPY` command"
   ]
  },
  {
   "cell_type": "code",
   "execution_count": null,
   "metadata": {},
   "outputs": [],
   "source": [
    "!mkdir -p data && tar xf otp_flights.tar.gz -C data/"
   ]
  },
  {
   "cell_type": "code",
   "execution_count": null,
   "metadata": {},
   "outputs": [],
   "source": [
    "!ls data"
   ]
  },
  {
   "cell_type": "code",
   "execution_count": null,
   "metadata": {},
   "outputs": [],
   "source": [
    "!head data/otp_flights_2018_1.csv"
   ]
  },
  {
   "cell_type": "code",
   "execution_count": null,
   "metadata": {},
   "outputs": [],
   "source": [
    "!psql -c 'CREATE TABLE flights(OP_UNIQUE_CARRIER VARCHAR, \\\n",
    "OP_CARRIER_FL_NUM NUMERIC, \\\n",
    "FL_DATE VARCHAR, \\\n",
    "ORIGIN_CITY_NAME VARCHAR, \\\n",
    "DEST_CITY_NAME VARCHAR, \\\n",
    "DISTANCE NUMERIC, \\\n",
    "DEP_DELAY NUMERIC, \\\n",
    "ARR_DELAY NUMERIC);' cs6"
   ]
  },
  {
   "cell_type": "code",
   "execution_count": null,
   "metadata": {},
   "outputs": [],
   "source": [
    "!psql -c '\\d flights' cs6"
   ]
  },
  {
   "cell_type": "markdown",
   "metadata": {},
   "source": [
    "Loading the data into the database via `COPY FROM`"
   ]
  },
  {
   "cell_type": "code",
   "execution_count": null,
   "metadata": {},
   "outputs": [],
   "source": [
    "!psql -c \"COPY flights(OP_UNIQUE_CARRIER,OP_CARRIER_FL_NUM,FL_DATE, \\\n",
    "ORIGIN_CITY_NAME,DEST_CITY_NAME,DISTANCE,DEP_DELAY,ARR_DELAY) \\\n",
    "FROM '$(pwd)/data/otp_flights_2018_12.csv' DELIMITER ',' CSV HEADER;\" cs6"
   ]
  },
  {
   "cell_type": "code",
   "execution_count": null,
   "metadata": {},
   "outputs": [],
   "source": [
    "!psql -c 'SELECT * FROM flights LIMIT 5;' cs6"
   ]
  },
  {
   "cell_type": "markdown",
   "metadata": {},
   "source": [
    "## 04.01 Basic analytics\n",
    "We can use simple aggregates to get information.\n",
    "\n",
    "Aggregates that can be used are\n",
    "\n",
    "- `AVG` computes average\n",
    "- `SUM` computes sum\n",
    "- `MIN` or `MAX`\n",
    "- ...\n",
    "\n",
    "A complete list is available under https://www.postgresql.org/docs/9.5/functions-aggregate.html\n",
    "\n",
    "I.e. what is the longest flight recorded in the dataset?"
   ]
  },
  {
   "cell_type": "code",
   "execution_count": null,
   "metadata": {},
   "outputs": [],
   "source": [
    "!psql -c 'SELECT MAX(distance) FROM flights;' cs6"
   ]
  },
  {
   "cell_type": "markdown",
   "metadata": {},
   "source": [
    "We can now get the rows which belong to the longest flight"
   ]
  },
  {
   "cell_type": "code",
   "execution_count": null,
   "metadata": {},
   "outputs": [],
   "source": [
    "!psql -c 'SElECT origin_city_name, dest_city_name FROM flights WHERE distance=4983.0' cs6"
   ]
  },
  {
   "cell_type": "markdown",
   "metadata": {},
   "source": [
    "As we can see, the output is quite long because all pairs where returned!\n",
    "==> we can shorten it by using the DISTINCT keyword to eliminate the duplicates"
   ]
  },
  {
   "cell_type": "code",
   "execution_count": null,
   "metadata": {},
   "outputs": [],
   "source": [
    "!psql -c 'SElECT DISTINCT origin_city_name, dest_city_name FROM flights WHERE distance=4983.0' cs6"
   ]
  },
  {
   "cell_type": "markdown",
   "metadata": {},
   "source": [
    "## 04.02 Joining other datasets\n",
    "Sometimes there is information stored in other tables which we would like to combine with the current data.\n",
    "\n",
    "For this, let's ask the following question:\n",
    "\n",
    "Which carrier serves the most flights from New York? "
   ]
  },
  {
   "cell_type": "code",
   "execution_count": null,
   "metadata": {},
   "outputs": [],
   "source": [
    "!psql -c \"SELECT op_unique_carrier, COUNT(*) FROM flights WHERE origin_city_name \\\n",
    "LIKE '%New York%' GROUP BY op_unique_carrier ORDER BY COUNT(*) DESC;\" cs6"
   ]
  },
  {
   "cell_type": "markdown",
   "metadata": {},
   "source": [
    "The carrier code here however is unreadable, but there is a lookup table which we can join in!"
   ]
  },
  {
   "cell_type": "code",
   "execution_count": null,
   "metadata": {},
   "outputs": [],
   "source": [
    "!head airlines.csv"
   ]
  },
  {
   "cell_type": "code",
   "execution_count": null,
   "metadata": {},
   "outputs": [],
   "source": [
    "!psql -c 'CREATE TABLE airlines(code VARCHAR, name VARCHAR);' cs6"
   ]
  },
  {
   "cell_type": "code",
   "execution_count": null,
   "metadata": {},
   "outputs": [],
   "source": [
    "!psql -c \"COPY airlines(code, name) FROM '$(pwd)/airlines.csv' DELIMITER ',' CSV HEADER;\" cs6"
   ]
  },
  {
   "cell_type": "markdown",
   "metadata": {},
   "source": [
    "Let's now join this table with the flights!"
   ]
  },
  {
   "cell_type": "code",
   "execution_count": null,
   "metadata": {},
   "outputs": [],
   "source": [
    "!psql -c \"SELECT DISTINCT a.name, f.origin_city_name, f.dest_city_name \\\n",
    "FROM flights f JOIN airlines a ON f.op_unique_carrier = a.code WHERE f.origin_city_name LIKE '%Providence%'\" cs6"
   ]
  },
  {
   "cell_type": "code",
   "execution_count": null,
   "metadata": {},
   "outputs": [],
   "source": [
    "!psql -c \"SELECT a.name, COUNT(*) FROM flights f JOIN airlines a ON f.op_unique_carrier = a.code \\\n",
    "WHERE origin_city_name LIKE '%New York%' \\\n",
    "GROUP BY a.name ORDER BY COUNT(*) DESC;\" cs6"
   ]
  },
  {
   "cell_type": "markdown",
   "metadata": {},
   "source": [
    "==> I.e. Delta Air Lines seems to operate the most flights out of NYC!\n",
    "\n",
    "How about Pvd?"
   ]
  },
  {
   "cell_type": "code",
   "execution_count": null,
   "metadata": {},
   "outputs": [],
   "source": [
    "!psql -c \"SELECT a.name, COUNT(*) FROM flights f JOIN airlines a ON f.op_unique_carrier = a.code \\\n",
    "WHERE origin_city_name LIKE '%Providence%' \\\n",
    "GROUP BY a.name ORDER BY COUNT(*) DESC;\" cs6"
   ]
  },
  {
   "cell_type": "markdown",
   "metadata": {},
   "source": [
    "To reset this notebook's db, run"
   ]
  },
  {
   "cell_type": "code",
   "execution_count": null,
   "metadata": {},
   "outputs": [],
   "source": [
    "!psql -c \"DROP TABLE airlines; DROP TABLE flights;\" cs6"
   ]
  },
  {
   "cell_type": "markdown",
   "metadata": {},
   "source": [
    "## 04.03 Data analytics in MongoDB\n",
    "\n",
    "MongoDB also provides data aggregation features, however it's a bit more complicated than writing SQL-statements. Rather, to use aggregation across documents you'll need to define in MongoDB an aggregation pipeline:\n",
    "\n",
    "https://docs.mongodb.com/manual/aggregation/"
   ]
  },
  {
   "cell_type": "code",
   "execution_count": null,
   "metadata": {},
   "outputs": [],
   "source": [
    "import pymongo\n",
    "\n",
    "client = pymongo.MongoClient()\n",
    "\n",
    "db = client['cs6']"
   ]
  },
  {
   "cell_type": "markdown",
   "metadata": {},
   "source": [
    "Let's load the flight data into MongoDB"
   ]
  },
  {
   "cell_type": "code",
   "execution_count": null,
   "metadata": {},
   "outputs": [],
   "source": [
    "import csv"
   ]
  },
  {
   "cell_type": "code",
   "execution_count": null,
   "metadata": {},
   "outputs": [],
   "source": [
    "%%time\n",
    "with open('data/otp_flights_2018_1.csv') as fp:\n",
    "    reader = csv.DictReader(fp)\n",
    "    \n",
    "    rows = [dict(row) for row in reader]\n",
    "    \n",
    "    db.flights.insert_many(rows)"
   ]
  },
  {
   "cell_type": "code",
   "execution_count": null,
   "metadata": {},
   "outputs": [],
   "source": [
    "db.flights.find_one()"
   ]
  },
  {
   "cell_type": "markdown",
   "metadata": {},
   "source": [
    "Let's try to do the same query above for New York in MongoDB!"
   ]
  },
  {
   "cell_type": "code",
   "execution_count": null,
   "metadata": {},
   "outputs": [],
   "source": [
    "db.flights.find_one({'ORIGIN_CITY_NAME' : {'$regex' : 'New York'}})"
   ]
  },
  {
   "cell_type": "markdown",
   "metadata": {},
   "source": [
    "First step is to define a simple counting pipeline, which restricts documents to the ones belonging to flights originating in New York"
   ]
  },
  {
   "cell_type": "code",
   "execution_count": null,
   "metadata": {},
   "outputs": [],
   "source": [
    "res = db.flights.aggregate([{'$match' : {'ORIGIN_CITY_NAME' : {'$regex' : 'New York'}}},\n",
    "                    {'$group' : {'_id' : '$OP_UNIQUE_CARRIER', 'total': { '$sum' : 1}}}])\n",
    "\n",
    "list(res)"
   ]
  },
  {
   "cell_type": "markdown",
   "metadata": {},
   "source": [
    "Second step is to sort the result"
   ]
  },
  {
   "cell_type": "code",
   "execution_count": null,
   "metadata": {},
   "outputs": [],
   "source": [
    "res = db.flights.aggregate([{'$match' : {'ORIGIN_CITY_NAME' : {'$regex' : 'New York'}}},\n",
    "                    {'$group' : {'_id' : '$OP_UNIQUE_CARRIER', 'total': { '$sum' : 1}}},\n",
    "                           {'$sort' : {'total' : -1}}]) # 1 for ascending, -1 for descending\n",
    "\n",
    "list(res)"
   ]
  },
  {
   "cell_type": "markdown",
   "metadata": {},
   "source": [
    "The `_id` field looks rather unpleasant, but it can be renamed"
   ]
  },
  {
   "cell_type": "code",
   "execution_count": null,
   "metadata": {},
   "outputs": [],
   "source": [
    "res = db.flights.aggregate([{'$match' : {'ORIGIN_CITY_NAME' : {'$regex' : 'New York'}}},\n",
    "                    {'$group' : {'_id' : '$OP_UNIQUE_CARRIER', 'total': { '$sum' : 1}}},\n",
    "                           {'$sort' : {'total' : -1}},\n",
    "                           {'$project' : {'_id' : 0, 'carrier_code' : '$_id', 'total' : 1}}]) # 1 for ascending, -1 for descending\n",
    "\n",
    "list(res)"
   ]
  },
  {
   "cell_type": "markdown",
   "metadata": {},
   "source": [
    "What is missing though is the lookup on the airline name. This can be also done in MongoDB!"
   ]
  },
  {
   "cell_type": "code",
   "execution_count": null,
   "metadata": {},
   "outputs": [],
   "source": [
    "%%time\n",
    "with open('airlines.csv') as fp:\n",
    "    reader = csv.DictReader(fp)\n",
    "    \n",
    "    rows = [dict(row) for row in reader]\n",
    "    \n",
    "    db.airlines.insert_many(rows)"
   ]
  },
  {
   "cell_type": "code",
   "execution_count": null,
   "metadata": {},
   "outputs": [],
   "source": [
    "res = db.flights.aggregate([{'$match' : {'ORIGIN_CITY_NAME' : {'$regex' : 'New York'}}},\n",
    "                    {'$group' : {'_id' : '$OP_UNIQUE_CARRIER', 'total': { '$sum' : 1}}},\n",
    "                           {'$sort' : {'total' : -1}},\n",
    "                           {'$project' : {'_id' : 0, 'carrier_code' : '$_id', 'total' : 1}},\n",
    "                           {'$lookup' : {'from' : 'airlines', \n",
    "                                         'localField' : 'carrier_code',\n",
    "                                         'foreignField' : 'Code',\n",
    "                                         'as' : 'airline'}}]) # 1 for ascending, -1 for descending\n",
    "\n",
    "list(res)[:5]"
   ]
  },
  {
   "cell_type": "markdown",
   "metadata": {},
   "source": [
    "Again, some projection is needed to get things nicely formatted!"
   ]
  },
  {
   "cell_type": "code",
   "execution_count": null,
   "metadata": {},
   "outputs": [],
   "source": [
    "res = db.flights.aggregate([{'$match' : {'ORIGIN_CITY_NAME' : {'$regex' : 'New York'}}},\n",
    "                    {'$group' : {'_id' : '$OP_UNIQUE_CARRIER', 'total': { '$sum' : 1}}},\n",
    "                           {'$sort' : {'total' : -1}},\n",
    "                           {'$project' : {'_id' : 0, 'carrier_code' : '$_id', 'total' : 1}},\n",
    "                           {'$lookup' : {'from' : 'airlines', \n",
    "                                         'localField' : 'carrier_code',\n",
    "                                         'foreignField' : 'Code',\n",
    "                                         'as' : 'airline'}},\n",
    "                           {'$project' : {'total' : 1, 'airline' : {\n",
    "                               '$arrayElemAt': [ '$airline.Description', 0 ] }\n",
    "                                         }\n",
    "                           }])\n",
    "\n",
    "list(res)"
   ]
  },
  {
   "cell_type": "markdown",
   "metadata": {},
   "source": [
    "To reset the mongodb collection, use"
   ]
  },
  {
   "cell_type": "code",
   "execution_count": null,
   "metadata": {},
   "outputs": [],
   "source": [
    "db.flights.drop()\n",
    "db.airlines.drop()"
   ]
  },
  {
   "cell_type": "code",
   "execution_count": null,
   "metadata": {},
   "outputs": [],
   "source": []
  }
 ],
 "metadata": {
  "kernelspec": {
   "display_name": "Python 3",
   "language": "python",
   "name": "python3"
  },
  "language_info": {
   "codemirror_mode": {
    "name": "ipython",
    "version": 3
   },
   "file_extension": ".py",
   "mimetype": "text/x-python",
   "name": "python",
   "nbconvert_exporter": "python",
   "pygments_lexer": "ipython3",
   "version": "3.7.4"
  }
 },
 "nbformat": 4,
 "nbformat_minor": 2
}
